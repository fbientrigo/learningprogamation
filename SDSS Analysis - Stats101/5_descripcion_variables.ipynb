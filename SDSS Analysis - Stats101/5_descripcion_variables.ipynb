{
  "nbformat": 4,
  "nbformat_minor": 0,
  "metadata": {
    "colab": {
      "provenance": []
    },
    "kernelspec": {
      "name": "python3",
      "display_name": "Python 3"
    },
    "language_info": {
      "name": "python"
    }
  },
  "cells": [
    {
      "cell_type": "markdown",
      "source": [
        "Aqui se generarran las medidas de tendencia central, los intervalos de confianza para la media y varianza junto a algunos otros datos estaditsicos para cada variable."
      ],
      "metadata": {
        "id": "TwtbiinEGp1g"
      }
    },
    {
      "cell_type": "code",
      "execution_count": null,
      "metadata": {
        "id": "YMPASYTVCE77"
      },
      "outputs": [],
      "source": [
        "#importamos las librerias y datos que usaremos\n",
        "\n",
        "import numpy as np\n",
        "import pandas as pd\n",
        "import scipy.stats\n",
        "from sklearn.linear_model import LinearRegression\n",
        "df = pd.read_csv('SDSS_notOutliers.csv', index_col=0) # dataframe"
      ]
    },
    {
      "cell_type": "markdown",
      "source": [
        "Usaremos scipy.stats.chi2 y scipy.stats.norm para encontrar los valores en tabla para Z, chi cuadrado inferior y superior, para una significancia α = 0.05 "
      ],
      "metadata": {
        "id": "M62G4x0eIaxG"
      }
    },
    {
      "cell_type": "code",
      "source": [
        "c = 0 # c es un contador para iterar\n",
        "\n",
        "z = scipy.stats.norm.ppf(1 - 0.05/2)\n",
        "\n",
        "#el valor de z_mag es solo para obtener N total de los datos que seran encuestados.\n",
        "chi_i = scipy.stats.chi2.ppf(0.975,len(df['z_mag'])-1) \n",
        "chi_s = scipy.stats.chi2.ppf(0.025,len(df['z_mag'])-1)"
      ],
      "metadata": {
        "id": "x7t13IqgIbLV"
      },
      "execution_count": null,
      "outputs": []
    },
    {
      "cell_type": "markdown",
      "source": [
        "Finalmente calculamos e imprimimos los intervalos de confianza y los datos estadisticos todo redondeado en el tercer decimal a travez de la funcion round()."
      ],
      "metadata": {
        "id": "rZAZGebPOThO"
      }
    },
    {
      "cell_type": "code",
      "source": [
        "for i in df.columns.values:\n",
        "    \n",
        "    if i != 'SDSS'  and i != 'ROSAT':\n",
        "       \n",
        "        des = df[i].describe()\n",
        "        print(i)       \n",
        "        print('I.C.(media)\\t', round(des[1] - z*des[2]/np.sqrt(len(df[i])),4), round(des[1] + z*des[2]/np.sqrt(len(df[i])),4) )\n",
        "        print('I.C.(varianza)\\t',round(((len(df[i])-1)*des[2]/chi_i),4), round(((len(df[i])-1)*des[2]/chi_s),4))\n",
        "\n",
        "        print('''\n",
        "        count\\t round(des[0],3)\n",
        "        mean\\t round(des[1],3)\n",
        "        med\\t round(df[i][(len(df[i])-1)/2],3)\n",
        "        mode\\t round(df[i].mode()[0],3)\n",
        "        std\\t round(des[2],3)\n",
        "        min\\t round(des[3],3)\n",
        "        25%\\t round(des[4],3)\n",
        "        50%\\t round(des[5],3)\n",
        "        75%\\t round(des[6],3)\n",
        "        max\\t round(des[7]''')"
      ],
      "metadata": {
        "id": "BGRfwEGPOUO-"
      },
      "execution_count": null,
      "outputs": []
    }
  ]
}