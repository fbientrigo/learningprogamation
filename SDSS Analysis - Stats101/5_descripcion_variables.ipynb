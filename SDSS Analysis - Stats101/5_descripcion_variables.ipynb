{
  "cells": [
    {
      "cell_type": "markdown",
      "metadata": {
        "id": "TwtbiinEGp1g"
      },
      "source": [
        "Aqui se generarran las medidas de tendencia central, los intervalos de confianza para la media y varianza junto a algunos otros datos estaditsicos para cada variable."
      ]
    },
    {
      "cell_type": "code",
      "execution_count": 1,
      "metadata": {
        "id": "YMPASYTVCE77"
      },
      "outputs": [],
      "source": [
        "#importamos las librerias y datos que usaremos\n",
        "\n",
        "import numpy as np\n",
        "import pandas as pd\n",
        "import scipy.stats\n",
        "from sklearn.linear_model import LinearRegression\n",
        "df = pd.read_csv('SDSS_notOutliers.csv', index_col=0) # dataframe"
      ]
    },
    {
      "cell_type": "markdown",
      "metadata": {
        "id": "M62G4x0eIaxG"
      },
      "source": [
        "Usaremos scipy.stats.chi2 y scipy.stats.norm para encontrar los valores en tabla para Z, chi cuadrado inferior y superior, para una significancia α = 0.05 "
      ]
    },
    {
      "cell_type": "code",
      "execution_count": 2,
      "metadata": {
        "id": "x7t13IqgIbLV"
      },
      "outputs": [],
      "source": [
        "c = 0 # c es un contador para iterar\n",
        "\n",
        "z = scipy.stats.norm.ppf(1 - 0.05/2)\n",
        "\n",
        "#el valor de z_mag es solo para obtener N total de los datos que seran encuestados.\n",
        "chi_i = scipy.stats.chi2.ppf(0.975,len(df['z_mag'])-1) \n",
        "chi_s = scipy.stats.chi2.ppf(0.025,len(df['z_mag'])-1)"
      ]
    },
    {
      "cell_type": "markdown",
      "metadata": {
        "id": "rZAZGebPOThO"
      },
      "source": [
        "Finalmente calculamos e imprimimos los intervalos de confianza y los datos estadisticos todo redondeado en el tercer decimal a travez de la funcion round()."
      ]
    },
    {
      "cell_type": "code",
      "execution_count": null,
      "metadata": {},
      "outputs": [],
      "source": [
        "# guardandolo todo dentro de un archivo\n",
        "import os"
      ]
    },
    {
      "cell_type": "code",
      "execution_count": 17,
      "metadata": {},
      "outputs": [
        {
          "name": "stdout",
          "output_type": "stream",
          "text": [
            "0\n"
          ]
        }
      ],
      "source": [
        "with open('descripciones.txt', 'w') as file:\n",
        "    for i in df.columns.values:\n",
        "        \n",
        "        if i != 'SDSS'  and i != 'ROSAT':\n",
        "        \n",
        "            des = df[i].describe()\n",
        "            file.write(f'{i} \\n')       \n",
        "            file.write('I.C.(media)\\t' + str(round(des[1] - z*des[2]/np.sqrt(len(df[i])),4)) + \"\\t\" + str( round(des[1] + z*des[2]/np.sqrt(len(df[i])),4) ) + \"\\n\")\n",
        "            file.write('I.C.(varianza)\\t' + str(round(((len(df[i])-1)*des[2]/chi_i),4)) + \"\\t\" + str( round(((len(df[i])-1)*des[2]/chi_s),4)) + \"\\n\")\n",
        "\n",
        "            file.write(f'''\n",
        "            count \\t {round(des[0],3)}\n",
        "            mean \\t {round(des[1],3)}\n",
        "            med\\t \\t {round(df[i][int( (len(df[i])-1)/2 )],3)}\n",
        "            mode \\t {round(df[i].mode()[0],3)}\n",
        "            std\\t \\t {round(des[2],3)}\n",
        "            min\\t \\t {round(des[3],3)}\n",
        "            25%\\t \\t {round(des[4],3)}\n",
        "            50%\\t \\t {round(des[5],3)}\n",
        "            75%\\t \\t {round(des[6],3)}\n",
        "            max\\t \\t {round(des[7],3)}\n",
        "            ''')\n",
        "            file.write(\"\\n\")\n",
        "\n",
        "print(0)"
      ]
    },
    {
      "cell_type": "code",
      "execution_count": null,
      "metadata": {},
      "outputs": [],
      "source": []
    }
  ],
  "metadata": {
    "colab": {
      "provenance": []
    },
    "kernelspec": {
      "display_name": "base",
      "language": "python",
      "name": "python3"
    },
    "language_info": {
      "codemirror_mode": {
        "name": "ipython",
        "version": 3
      },
      "file_extension": ".py",
      "mimetype": "text/x-python",
      "name": "python",
      "nbconvert_exporter": "python",
      "pygments_lexer": "ipython3",
      "version": "3.9.13"
    },
    "vscode": {
      "interpreter": {
        "hash": "ad2bdc8ecc057115af97d19610ffacc2b4e99fae6737bb82f5d7fb13d2f2c186"
      }
    }
  },
  "nbformat": 4,
  "nbformat_minor": 0
}
