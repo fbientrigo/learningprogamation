{
  "nbformat": 4,
  "nbformat_minor": 0,
  "metadata": {
    "colab": {
      "provenance": []
    },
    "kernelspec": {
      "name": "python3",
      "display_name": "Python 3"
    },
    "language_info": {
      "name": "python"
    }
  },
  "cells": [
    {
      "cell_type": "markdown",
      "source": [
        "Ahora realizaremos el estudio de las correlaciones entre las variables del SDSS, para esto calcularems la covarianza entre cada par de datos en la base de datos y generaremos una matriz que guarde el coeficiente r de Pearson para cada uno de estos pares."
      ],
      "metadata": {
        "id": "iz5DmNPb0tME"
      }
    },
    {
      "cell_type": "code",
      "source": [
        "#importamos las librerias y datos que usaremos\n",
        "\n",
        "import numpy as np\n",
        "import pandas as pd\n",
        "df = pd.read_csv('SDSS_notOutliers.csv', index_col=0)"
      ],
      "metadata": {
        "id": "J3Trr6XC1HU8"
      },
      "execution_count": null,
      "outputs": []
    },
    {
      "cell_type": "markdown",
      "source": [
        "Primeo generamos una funcion que nos ayudara a compactar un poco el iterador que filtrara las variables."
      ],
      "metadata": {
        "id": "Mm90YdTe55zn"
      }
    },
    {
      "cell_type": "code",
      "source": [
        "def nombre(x):\n",
        "    return df.columns.values[x]\n"
      ],
      "metadata": {
        "id": "d4Tzo_s54Reb"
      },
      "execution_count": null,
      "outputs": []
    },
    {
      "cell_type": "markdown",
      "source": [
        "Definimos nuestra matris con los coeficietes de Pearson a travez de la funcion de .corr() de pandas.\n",
        "Tambien definimos las cotas que seran nuestros criterios para definir si existe o no correlacion y si esta es \"simple\" o \"fuerte\", junto con las listas que agruparan estos datos."
      ],
      "metadata": {
        "id": "cwys_vHd6HPB"
      }
    },
    {
      "cell_type": "code",
      "source": [
        "cov = df.corr()\n",
        "cota = 0.7\n",
        "cota2 = 0.9\n",
        "correlaciones = []\n",
        "correlaciones2 = []"
      ],
      "metadata": {
        "id": "3K72Sp5w6q-S"
      },
      "execution_count": null,
      "outputs": []
    },
    {
      "cell_type": "markdown",
      "source": [
        "El siguiente ciclo va a iterar sobre todos los datos almacenados en cov, almacenando en correlaciones todos los datos mayores o igules a 0.7 y en correlaciones2 todos los datos mayores o igules a 0.9."
      ],
      "metadata": {
        "id": "y8CUub2P6swf"
      }
    },
    {
      "cell_type": "code",
      "source": [
        "for i in cov:\n",
        "  for j in cov[i]:\n",
        "    if abs(j) >= cota and i != nombre(np.where(cov[i] == j)[0][0]+1):\n",
        "      correlaciones.append([j,i,nombre(np.where(cov[i] == j)[0][0]+1)])\n",
        "  for k in cov[i]:\n",
        "    if abs(k) >= cota2 and i != nombre(np.where(cov[i] == k)[0][0]+1):\n",
        "      correlaciones2.append([k,i,nombre(np.where(cov[i] == j)[0][0]+1)])   "
      ],
      "metadata": {
        "id": "ciyzYgHo3j0v"
      },
      "execution_count": null,
      "outputs": []
    },
    {
      "cell_type": "markdown",
      "source": [
        "Ahora eliminaremos de correlaciones y correlaciones2 los pares repetidos (Ej. a-b y b-a)."
      ],
      "metadata": {
        "id": "OAJdaGrT7UvR"
      }
    },
    {
      "cell_type": "code",
      "source": [
        " for i in correlaciones:\n",
        "  for j in correlaciones:\n",
        "    if i[1]+i[2] == j[2]+j[1]:\n",
        "      correlaciones.remove(j)  \n",
        "       \n",
        " for i in correlaciones2:\n",
        "  for j in correlaciones2:\n",
        "    if i[1]+i[2] == j[2]+j[1]:\n",
        "      correlaciones2.remove(j)   "
      ],
      "metadata": {
        "id": "qxEra-a47Vhy"
      },
      "execution_count": null,
      "outputs": []
    },
    {
      "cell_type": "markdown",
      "source": [
        "Y finalmente imprimimos amabas listas."
      ],
      "metadata": {
        "id": "Oz_ErErN9dxs"
      }
    },
    {
      "cell_type": "code",
      "source": [
        "#Correlaciones, con |r| >= 0.7 \n",
        "for i in correlaciones:\n",
        "    print(i[1]+' '+i[2],round(i[0],3))"
      ],
      "metadata": {
        "id": "I4dvHi1q4zFo"
      },
      "execution_count": null,
      "outputs": []
    },
    {
      "cell_type": "code",
      "source": [
        "#Correlaciones fuertes, con |r| >= 0.9\n",
        "for i in correlaciones2:\n",
        "    print(i[1]+' '+i[2],round(i[0],3))"
      ],
      "metadata": {
        "id": "Yv9WClJb5VUw"
      },
      "execution_count": null,
      "outputs": []
    }
  ]
}