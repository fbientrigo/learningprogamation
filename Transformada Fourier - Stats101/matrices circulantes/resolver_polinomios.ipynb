{
 "cells": [
  {
   "cell_type": "markdown",
   "metadata": {},
   "source": [
    "## base\n",
    "Tengase el polinomio que viene de la matriz circulante\n",
    "$$\n",
    "\\det (I x - C) = p(x)\n",
    "$$\n",
    "\n",
    "entonces el vector de la matriz circulante con el cual es posible construirla (osea tomar la primera columna) nos entrega las raices\n",
    "$$\n",
    "q(x) = c_o + c_1 x + \\dots + c_{n-1}x^{n-1}\n",
    "$$\n",
    "\n",
    "donde utilizando las raices de la unidad obtenemos las raices de la matriz circulante"
   ]
  },
  {
   "cell_type": "markdown",
   "metadata": {},
   "source": [
    "## el algoritmo\n",
    "tengase el polinomio caracteristico $p(x)$\n",
    "\n",
    "- construir la matriz circulante conociendo el polinomio caracteristico\n",
    "\n",
    "- llegar a una ecuacion de la forma\n",
    "\n",
    "$$ \n",
    "C_x y = z\n",
    "$$\n",
    "\n",
    "- construir un diagonalizador de la ecuacion con la DFT (se puede usar la FFT en otro notebook para demostrar velocida)\n",
    "\n",
    "- usar el diagonalizador para resolver la ecuacion\n",
    "\n",
    "- obtener asi la matriz circulante en forma del polinomio caracteristico"
   ]
  },
  {
   "cell_type": "markdown",
   "metadata": {},
   "source": [
    "### la relacion polinomio y matriz circulante\n",
    "\n",
    "$$\n",
    "\\det (I x - C) = p(x)\n",
    "$$\n",
    "\n",
    "\n",
    "donde tenemos\n",
    "$$\n",
    "C = W \\, diag(\\hat x) \\, W^{-1}\n",
    "$$\n",
    "\n",
    "$$\n",
    "\\det (I x - C) = \\Pi_i (1-\\hat x_i)\n",
    "$$\n",
    "\n",
    "donde del lado izquierdo tenemos diagonales, donde $\\lambda_k = \\hat x_k$\n",
    "$$\n",
    "\\det( \\left( \\begin{matrix}\n",
    "(x-\\lambda_0) & 0 & 0 & \\dots \\\\\n",
    "0 & (x-\\lambda_1) & 0 & \\dots \\\\\n",
    "0 & 0 & (x-\\lambda_2)  & \\dots \\\\\n",
    "\n",
    "\\end{matrix}\n",
    "\\right)) = \\det C\n",
    "$$\n",
    "\n",
    "lo que es la productoria de las raices, osea el polinomio para construir \n",
    "$$\n",
    "\\det C = \\Pi_i (\\hat x_i)\n",
    "$$\n"
   ]
  },
  {
   "cell_type": "code",
   "execution_count": 21,
   "metadata": {},
   "outputs": [
    {
     "data": {
      "text/plain": [
       "array([[1., 0., 0., 0., 0.],\n",
       "       [0., 1., 0., 0., 0.],\n",
       "       [0., 0., 1., 0., 0.],\n",
       "       [0., 0., 0., 1., 0.],\n",
       "       [0., 0., 0., 0., 1.]])"
      ]
     },
     "execution_count": 21,
     "metadata": {},
     "output_type": "execute_result"
    }
   ],
   "source": [
    "# idea de obtener la determinante de la DFT\n",
    "\n",
    "import numpy as np\n",
    "\n",
    "np.eye(N)"
   ]
  },
  {
   "cell_type": "code",
   "execution_count": 87,
   "metadata": {},
   "outputs": [
    {
     "data": {
      "text/plain": [
       "(1+0j)"
      ]
     },
     "execution_count": 87,
     "metadata": {},
     "output_type": "execute_result"
    }
   ],
   "source": [
    "# comprobando que W * W^-1 (IDFT * DFT) dan la unidad\n",
    "N = 4\n",
    "\n",
    "Wstar = np.fft.fft(np.eye(N))\n",
    "W = np.conjugate(Wstar) / N\n",
    "\n",
    "# aproximadamente 0\n",
    "I = np.matmul(W, Wstar)\n",
    "\n",
    "np.linalg.det(I) # me da la unidad, perfecto"
   ]
  },
  {
   "cell_type": "code",
   "execution_count": null,
   "metadata": {},
   "outputs": [],
   "source": []
  }
 ],
 "metadata": {
  "kernelspec": {
   "display_name": "Python 3.9.13 ('base')",
   "language": "python",
   "name": "python3"
  },
  "language_info": {
   "codemirror_mode": {
    "name": "ipython",
    "version": 3
   },
   "file_extension": ".py",
   "mimetype": "text/x-python",
   "name": "python",
   "nbconvert_exporter": "python",
   "pygments_lexer": "ipython3",
   "version": "3.9.13"
  },
  "orig_nbformat": 4,
  "vscode": {
   "interpreter": {
    "hash": "ad2bdc8ecc057115af97d19610ffacc2b4e99fae6737bb82f5d7fb13d2f2c186"
   }
  }
 },
 "nbformat": 4,
 "nbformat_minor": 2
}
