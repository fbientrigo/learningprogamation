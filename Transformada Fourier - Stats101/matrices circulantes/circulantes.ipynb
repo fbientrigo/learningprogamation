{
  "cells": [
    {
      "cell_type": "code",
      "execution_count": null,
      "metadata": {
        "id": "LkIR_M3EkMuT"
      },
      "outputs": [],
      "source": [
        "import numpy as np\n",
        "import matplotlib.pyplot as plt\n"
      ]
    },
    {
      "cell_type": "code",
      "execution_count": null,
      "metadata": {
        "id": "OCI0kv2wkMuV"
      },
      "outputs": [],
      "source": [
        "x = np.array([i for i in range(10)])\n"
      ]
    },
    {
      "cell_type": "code",
      "execution_count": null,
      "metadata": {
        "id": "-pWj52E8kMuW",
        "outputId": "d10d7dfa-cf5c-47e3-8dad-631f77334b8f",
        "colab": {
          "base_uri": "https://localhost:8080/",
          "height": 282
        }
      },
      "outputs": [
        {
          "output_type": "execute_result",
          "data": {
            "text/plain": [
              "[<matplotlib.lines.Line2D at 0x7f875e197160>]"
            ]
          },
          "metadata": {},
          "execution_count": 3
        },
        {
          "output_type": "display_data",
          "data": {
            "text/plain": [
              "<Figure size 432x288 with 1 Axes>"
            ],
            "image/png": "[encoded data removed]"
          },
          "metadata": {
            "needs_background": "light"
          }
        }
      ],
      "source": [
        "# que relacion tiene el plot\n",
        "plt.plot(x,x)"
      ]
    },
    {
      "cell_type": "code",
      "execution_count": null,
      "metadata": {
        "id": "9MOKTINBkMuX"
      },
      "outputs": [],
      "source": [
        "import numpy as np\n",
        "import matplotlib.pyplot as plt\n",
        "%matplotlib inline"
      ]
    },
    {
      "cell_type": "code",
      "execution_count": null,
      "metadata": {
        "id": "vLE9_MCfkMuX"
      },
      "outputs": [],
      "source": [
        "np.set_printoptions(precision=5, suppress=True)"
      ]
    },
    {
      "cell_type": "code",
      "execution_count": null,
      "metadata": {
        "id": "3Oxc_bhokMuY"
      },
      "outputs": [],
      "source": [
        "from numba import njit"
      ]
    },
    {
      "cell_type": "code",
      "execution_count": null,
      "metadata": {
        "id": "zBdPiL2IkMuY"
      },
      "outputs": [],
      "source": [
        "@njit\n",
        "def construct_circulant(row : np.array):\n",
        "\n",
        "    N = row.size\n",
        "\n",
        "    C = np.empty((N,N))\n",
        "\n",
        "    for i in range(N):\n",
        "\n",
        "        C[i,i:] = row[:N-i]\n",
        "        C[i,:i] = row[N-i:]\n",
        "    return C\n"
      ]
    },
    {
      "cell_type": "code",
      "execution_count": null,
      "metadata": {
        "id": "rnQVielekMuZ",
        "outputId": "5033ff00-d2bc-483b-d93f-d7803e288a46",
        "colab": {
          "base_uri": "https://localhost:8080/"
        }
      },
      "outputs": [
        {
          "output_type": "execute_result",
          "data": {
            "text/plain": [
              "array([[0., 1., 2., 3., 4., 5., 6., 7., 8., 9.],\n",
              "       [9., 0., 1., 2., 3., 4., 5., 6., 7., 8.],\n",
              "       [8., 9., 0., 1., 2., 3., 4., 5., 6., 7.],\n",
              "       [7., 8., 9., 0., 1., 2., 3., 4., 5., 6.],\n",
              "       [6., 7., 8., 9., 0., 1., 2., 3., 4., 5.],\n",
              "       [5., 6., 7., 8., 9., 0., 1., 2., 3., 4.],\n",
              "       [4., 5., 6., 7., 8., 9., 0., 1., 2., 3.],\n",
              "       [3., 4., 5., 6., 7., 8., 9., 0., 1., 2.],\n",
              "       [2., 3., 4., 5., 6., 7., 8., 9., 0., 1.],\n",
              "       [1., 2., 3., 4., 5., 6., 7., 8., 9., 0.]])"
            ]
          },
          "metadata": {},
          "execution_count": 8
        }
      ],
      "source": [
        "C = construct_circulant(x)\n",
        "C"
      ]
    },
    {
      "cell_type": "markdown",
      "metadata": {
        "id": "ixu045lvkMua"
      },
      "source": [
        "### regla conmutatividad"
      ]
    },
    {
      "cell_type": "code",
      "execution_count": null,
      "metadata": {
        "id": "YAYN7U1jkMuc",
        "outputId": "05779a65-9aa7-4c19-b040-f6290f8c23d4",
        "colab": {
          "base_uri": "https://localhost:8080/"
        }
      },
      "outputs": [
        {
          "output_type": "execute_result",
          "data": {
            "text/plain": [
              "array([[ 2.,  3.,  4.,  5.,  6.,  7.,  8.,  9., 10., 11.],\n",
              "       [11.,  2.,  3.,  4.,  5.,  6.,  7.,  8.,  9., 10.],\n",
              "       [10., 11.,  2.,  3.,  4.,  5.,  6.,  7.,  8.,  9.],\n",
              "       [ 9., 10., 11.,  2.,  3.,  4.,  5.,  6.,  7.,  8.],\n",
              "       [ 8.,  9., 10., 11.,  2.,  3.,  4.,  5.,  6.,  7.],\n",
              "       [ 7.,  8.,  9., 10., 11.,  2.,  3.,  4.,  5.,  6.],\n",
              "       [ 6.,  7.,  8.,  9., 10., 11.,  2.,  3.,  4.,  5.],\n",
              "       [ 5.,  6.,  7.,  8.,  9., 10., 11.,  2.,  3.,  4.],\n",
              "       [ 4.,  5.,  6.,  7.,  8.,  9., 10., 11.,  2.,  3.],\n",
              "       [ 3.,  4.,  5.,  6.,  7.,  8.,  9., 10., 11.,  2.]])"
            ]
          },
          "metadata": {},
          "execution_count": 9
        }
      ],
      "source": [
        "A = construct_circulant(np.array([i for i in range(2,10+2)]))\n",
        "A"
      ]
    },
    {
      "cell_type": "code",
      "execution_count": null,
      "metadata": {
        "id": "RKOD0yOVkMuc",
        "outputId": "06fbe4fd-944b-479e-88c3-45d58b94e995",
        "colab": {
          "base_uri": "https://localhost:8080/"
        }
      },
      "outputs": [
        {
          "output_type": "execute_result",
          "data": {
            "text/plain": [
              "array([[ 0.,  3.,  8., 15., 24., 35., 48., 63., 80., 99.],\n",
              "       [99.,  0.,  3.,  8., 15., 24., 35., 48., 63., 80.],\n",
              "       [80., 99.,  0.,  3.,  8., 15., 24., 35., 48., 63.],\n",
              "       [63., 80., 99.,  0.,  3.,  8., 15., 24., 35., 48.],\n",
              "       [48., 63., 80., 99.,  0.,  3.,  8., 15., 24., 35.],\n",
              "       [35., 48., 63., 80., 99.,  0.,  3.,  8., 15., 24.],\n",
              "       [24., 35., 48., 63., 80., 99.,  0.,  3.,  8., 15.],\n",
              "       [15., 24., 35., 48., 63., 80., 99.,  0.,  3.,  8.],\n",
              "       [ 8., 15., 24., 35., 48., 63., 80., 99.,  0.,  3.],\n",
              "       [ 3.,  8., 15., 24., 35., 48., 63., 80., 99.,  0.]])"
            ]
          },
          "metadata": {},
          "execution_count": 10
        }
      ],
      "source": [
        "# conmutatividad\n",
        "A * C"
      ]
    },
    {
      "cell_type": "code",
      "execution_count": null,
      "metadata": {
        "id": "146HJFsBkMud",
        "outputId": "2f3fe9b7-8bfe-4613-fefe-d3b4fe0f06f9",
        "colab": {
          "base_uri": "https://localhost:8080/"
        }
      },
      "outputs": [
        {
          "output_type": "execute_result",
          "data": {
            "text/plain": [
              "array([[ 0.,  3.,  8., 15., 24., 35., 48., 63., 80., 99.],\n",
              "       [99.,  0.,  3.,  8., 15., 24., 35., 48., 63., 80.],\n",
              "       [80., 99.,  0.,  3.,  8., 15., 24., 35., 48., 63.],\n",
              "       [63., 80., 99.,  0.,  3.,  8., 15., 24., 35., 48.],\n",
              "       [48., 63., 80., 99.,  0.,  3.,  8., 15., 24., 35.],\n",
              "       [35., 48., 63., 80., 99.,  0.,  3.,  8., 15., 24.],\n",
              "       [24., 35., 48., 63., 80., 99.,  0.,  3.,  8., 15.],\n",
              "       [15., 24., 35., 48., 63., 80., 99.,  0.,  3.,  8.],\n",
              "       [ 8., 15., 24., 35., 48., 63., 80., 99.,  0.,  3.],\n",
              "       [ 3.,  8., 15., 24., 35., 48., 63., 80., 99.,  0.]])"
            ]
          },
          "metadata": {},
          "execution_count": 11
        }
      ],
      "source": [
        "C * A"
      ]
    },
    {
      "cell_type": "code",
      "execution_count": null,
      "metadata": {
        "id": "yBFlvzdykMud",
        "outputId": "721021ce-9155-4d4d-ad04-3dcfab33ea7f",
        "colab": {
          "base_uri": "https://localhost:8080/"
        }
      },
      "outputs": [
        {
          "output_type": "execute_result",
          "data": {
            "text/plain": [
              "array([[ True,  True,  True,  True,  True,  True,  True,  True,  True,\n",
              "         True],\n",
              "       [ True,  True,  True,  True,  True,  True,  True,  True,  True,\n",
              "         True],\n",
              "       [ True,  True,  True,  True,  True,  True,  True,  True,  True,\n",
              "         True],\n",
              "       [ True,  True,  True,  True,  True,  True,  True,  True,  True,\n",
              "         True],\n",
              "       [ True,  True,  True,  True,  True,  True,  True,  True,  True,\n",
              "         True],\n",
              "       [ True,  True,  True,  True,  True,  True,  True,  True,  True,\n",
              "         True],\n",
              "       [ True,  True,  True,  True,  True,  True,  True,  True,  True,\n",
              "         True],\n",
              "       [ True,  True,  True,  True,  True,  True,  True,  True,  True,\n",
              "         True],\n",
              "       [ True,  True,  True,  True,  True,  True,  True,  True,  True,\n",
              "         True],\n",
              "       [ True,  True,  True,  True,  True,  True,  True,  True,  True,\n",
              "         True]])"
            ]
          },
          "metadata": {},
          "execution_count": 12
        }
      ],
      "source": [
        "(A * C == C * A)\n",
        "    "
      ]
    },
    {
      "cell_type": "code",
      "execution_count": null,
      "metadata": {
        "id": "BVDUvSbEkMue",
        "outputId": "34bd2cc8-5e6e-479c-c7a4-0958be5a02fb",
        "colab": {
          "base_uri": "https://localhost:8080/"
        }
      },
      "outputs": [
        {
          "output_type": "execute_result",
          "data": {
            "text/plain": [
              "True"
            ]
          },
          "metadata": {},
          "execution_count": 13
        }
      ],
      "source": [
        "np.all((A * C == C * A))\n",
        "# conmutatividad comprobada"
      ]
    },
    {
      "cell_type": "code",
      "execution_count": null,
      "metadata": {
        "id": "o25-iLMAkMue",
        "outputId": "7f841499-2d67-4122-8e8d-d78f9804a8ea",
        "colab": {
          "base_uri": "https://localhost:8080/"
        }
      },
      "outputs": [
        {
          "output_type": "execute_result",
          "data": {
            "text/plain": [
              "array([[ 2., 11., 10.,  9.,  8.,  7.,  6.,  5.,  4.,  3.],\n",
              "       [ 3.,  2., 11., 10.,  9.,  8.,  7.,  6.,  5.,  4.],\n",
              "       [ 4.,  3.,  2., 11., 10.,  9.,  8.,  7.,  6.,  5.],\n",
              "       [ 5.,  4.,  3.,  2., 11., 10.,  9.,  8.,  7.,  6.],\n",
              "       [ 6.,  5.,  4.,  3.,  2., 11., 10.,  9.,  8.,  7.],\n",
              "       [ 7.,  6.,  5.,  4.,  3.,  2., 11., 10.,  9.,  8.],\n",
              "       [ 8.,  7.,  6.,  5.,  4.,  3.,  2., 11., 10.,  9.],\n",
              "       [ 9.,  8.,  7.,  6.,  5.,  4.,  3.,  2., 11., 10.],\n",
              "       [10.,  9.,  8.,  7.,  6.,  5.,  4.,  3.,  2., 11.],\n",
              "       [11., 10.,  9.,  8.,  7.,  6.,  5.,  4.,  3.,  2.]])"
            ]
          },
          "metadata": {},
          "execution_count": 14
        }
      ],
      "source": [
        "np.transpose(A)"
      ]
    },
    {
      "cell_type": "code",
      "execution_count": null,
      "metadata": {
        "id": "vU1aYIawkMuf",
        "outputId": "c49235be-1afc-4811-b5b5-84d7896c7007",
        "colab": {
          "base_uri": "https://localhost:8080/"
        }
      },
      "outputs": [
        {
          "output_type": "execute_result",
          "data": {
            "text/plain": [
              "array([[ 2.,  3.,  4.,  5.,  6.,  7.,  8.,  9., 10., 11.],\n",
              "       [11.,  2.,  3.,  4.,  5.,  6.,  7.,  8.,  9., 10.],\n",
              "       [10., 11.,  2.,  3.,  4.,  5.,  6.,  7.,  8.,  9.],\n",
              "       [ 9., 10., 11.,  2.,  3.,  4.,  5.,  6.,  7.,  8.],\n",
              "       [ 8.,  9., 10., 11.,  2.,  3.,  4.,  5.,  6.,  7.],\n",
              "       [ 7.,  8.,  9., 10., 11.,  2.,  3.,  4.,  5.,  6.],\n",
              "       [ 6.,  7.,  8.,  9., 10., 11.,  2.,  3.,  4.,  5.],\n",
              "       [ 5.,  6.,  7.,  8.,  9., 10., 11.,  2.,  3.,  4.],\n",
              "       [ 4.,  5.,  6.,  7.,  8.,  9., 10., 11.,  2.,  3.],\n",
              "       [ 3.,  4.,  5.,  6.,  7.,  8.,  9., 10., 11.,  2.]])"
            ]
          },
          "metadata": {},
          "execution_count": 15
        }
      ],
      "source": [
        "A"
      ]
    },
    {
      "cell_type": "markdown",
      "metadata": {
        "id": "LSsPPa2qkMuf"
      },
      "source": [
        "# scipy"
      ]
    },
    {
      "cell_type": "code",
      "execution_count": null,
      "metadata": {
        "id": "rNVhgjg7kMug"
      },
      "outputs": [],
      "source": [
        "import sympy as sc\n",
        "\n",
        "sc.init_printing(use_latex='mathjax')"
      ]
    },
    {
      "cell_type": "code",
      "execution_count": null,
      "metadata": {
        "id": "IU1OE9zLkMug",
        "outputId": "b450853e-3392-4540-c390-20b86456e507",
        "colab": {
          "base_uri": "https://localhost:8080/",
          "height": 191
        }
      },
      "outputs": [
        {
          "output_type": "display_data",
          "data": {
            "text/plain": [
              "array([[0., 1., 2., 3., 4., 5., 6., 7., 8., 9.],\n",
              "       [9., 0., 1., 2., 3., 4., 5., 6., 7., 8.],\n",
              "       [8., 9., 0., 1., 2., 3., 4., 5., 6., 7.],\n",
              "       [7., 8., 9., 0., 1., 2., 3., 4., 5., 6.],\n",
              "       [6., 7., 8., 9., 0., 1., 2., 3., 4., 5.],\n",
              "       [5., 6., 7., 8., 9., 0., 1., 2., 3., 4.],\n",
              "       [4., 5., 6., 7., 8., 9., 0., 1., 2., 3.],\n",
              "       [3., 4., 5., 6., 7., 8., 9., 0., 1., 2.],\n",
              "       [2., 3., 4., 5., 6., 7., 8., 9., 0., 1.],\n",
              "       [1., 2., 3., 4., 5., 6., 7., 8., 9., 0.]])"
            ]
          },
          "metadata": {}
        }
      ],
      "source": [
        "from IPython.display import display\n",
        "display(C)"
      ]
    },
    {
      "cell_type": "code",
      "execution_count": null,
      "metadata": {
        "id": "kRNApEFRkMuh",
        "outputId": "8d1b801e-13ed-476e-8fc3-a831ee8ef912",
        "colab": {
          "base_uri": "https://localhost:8080/"
        }
      },
      "outputs": [
        {
          "output_type": "stream",
          "name": "stdout",
          "text": [
            " [[0. 1. 2. 3. 4. 5. 6. 7. 8. 9.]\n",
            "  [9. 0. 1. 2. 3. 4. 5. 6. 7. 8.]\n",
            "  [8. 9. 0. 1. 2. 3. 4. 5. 6. 7.]\n",
            "  [7. 8. 9. 0. 1. 2. 3. 4. 5. 6.]\n",
            "  [6. 7. 8. 9. 0. 1. 2. 3. 4. 5.]\n",
            "  [5. 6. 7. 8. 9. 0. 1. 2. 3. 4.]\n",
            "  [4. 5. 6. 7. 8. 9. 0. 1. 2. 3.]\n",
            "  [3. 4. 5. 6. 7. 8. 9. 0. 1. 2.]\n",
            "  [2. 3. 4. 5. 6. 7. 8. 9. 0. 1.]\n",
            " [1. 2. 3. 4. 5. 6. 7. 8. 9. 0.]]\n"
          ]
        }
      ],
      "source": [
        "\n",
        "\n",
        "sc.pprint(C)"
      ]
    },
    {
      "cell_type": "markdown",
      "source": [
        "# Comprobar probiedades\n",
        "Sea $\\gamma$ el set de matrices circulantes,\n",
        "donde $A, B \\in \\gamma$, entonces:\n",
        "\n",
        "a)\n",
        "- $A B \\in \\gamma$\n",
        "- $ A + B \\in \\gamma$\n",
        "- $ AB == BA$\n",
        "\n",
        "b)\n",
        "Sean las matrices circulantes de la unidad las que definen: $\\gamma_1$, entonces la matrices identidad circulante es la matriz identidad"
      ],
      "metadata": {
        "id": "IS3-wq-Ykr8N"
      }
    },
    {
      "cell_type": "markdown",
      "source": [
        "#### A,B\n",
        "Definimos el set: $\\gamma$"
      ],
      "metadata": {
        "id": "AAXY4pvbnLMq"
      }
    },
    {
      "cell_type": "code",
      "source": [
        "A = np.array([np.round(np.random.rand(),2) for i in range(5)])\n",
        "B = np.array([np.random.rand() for i in range(5)])"
      ],
      "metadata": {
        "id": "LxszaZjJloLq"
      },
      "execution_count": null,
      "outputs": []
    },
    {
      "cell_type": "code",
      "source": [
        "# C = np.array(\n",
        "#     np.array([i for i in range(10)]).reshape(-1,1)  for j in range(10)\n",
        "# )"
      ],
      "metadata": {
        "id": "igODy6mcl-cq"
      },
      "execution_count": null,
      "outputs": []
    },
    {
      "cell_type": "code",
      "source": [
        "A"
      ],
      "metadata": {
        "id": "OE73i1O3mRoG",
        "outputId": "cb700af0-c79f-495f-f28e-41cbc245f56d",
        "colab": {
          "base_uri": "https://localhost:8080/"
        }
      },
      "execution_count": null,
      "outputs": [
        {
          "output_type": "execute_result",
          "data": {
            "text/plain": [
              "array([0.11827, 0.33517, 0.30882, 0.3801 , 0.91667, 0.05799, 0.60929,\n",
              "       0.5788 , 0.62799, 0.30675])"
            ]
          },
          "metadata": {},
          "execution_count": 38
        }
      ]
    },
    {
      "cell_type": "code",
      "source": [
        "\n",
        "# construye las matrices circulantes\n",
        "A = construct_circulant( A )\n",
        "B = construct_circulant( B )\n"
      ],
      "metadata": {
        "id": "zayEL6Qwlikz"
      },
      "execution_count": null,
      "outputs": []
    },
    {
      "cell_type": "code",
      "source": [
        "sc.pprint(A)"
      ],
      "metadata": {
        "id": "ZZwSZtYAm2kQ",
        "outputId": "537c8554-fc46-4a5f-c5ba-c19355f5c4aa",
        "colab": {
          "base_uri": "https://localhost:8080/"
        }
      },
      "execution_count": null,
      "outputs": [
        {
          "output_type": "stream",
          "name": "stdout",
          "text": [
            "[[0.27 0.66 0.89 0.53 0.34] \n",
            " [0.34 0.27 0.66 0.89 0.53] \n",
            " [0.53 0.34 0.27 0.66 0.89] \n",
            " [0.89 0.53 0.34 0.27 0.66] \n",
            " [0.66 0.89 0.53 0.34 0.27]]\n"
          ]
        }
      ]
    },
    {
      "cell_type": "markdown",
      "source": [
        "##### Pruebas\n",
        "- $A B \\in \\gamma$\n",
        "- $ A + B \\in \\gamma$\n",
        "- $ AB == BA$\n"
      ],
      "metadata": {
        "id": "zwmDgDSnnRoI"
      }
    },
    {
      "cell_type": "code",
      "execution_count": null,
      "metadata": {
        "id": "XzDHcftFkMuh",
        "outputId": "81b045c1-caeb-4240-b9ed-dc3fe795046e",
        "colab": {
          "base_uri": "https://localhost:8080/"
        }
      },
      "outputs": [
        {
          "output_type": "execute_result",
          "data": {
            "text/plain": [
              "array([[0.1589 , 0.41772, 0.0947 , 0.44129, 0.16012],\n",
              "       [0.16012, 0.1589 , 0.41772, 0.0947 , 0.44129],\n",
              "       [0.44129, 0.16012, 0.1589 , 0.41772, 0.0947 ],\n",
              "       [0.0947 , 0.44129, 0.16012, 0.1589 , 0.41772],\n",
              "       [0.41772, 0.0947 , 0.44129, 0.16012, 0.1589 ]])"
            ]
          },
          "metadata": {},
          "execution_count": 49
        }
      ],
      "source": [
        "# AB es circulante\n",
        "A * B "
      ]
    },
    {
      "cell_type": "code",
      "source": [
        "B * A"
      ],
      "metadata": {
        "id": "uUaLwzZeni-3",
        "outputId": "1a20f74f-0b68-4fea-9706-064d3f038bb8",
        "colab": {
          "base_uri": "https://localhost:8080/"
        }
      },
      "execution_count": null,
      "outputs": [
        {
          "output_type": "execute_result",
          "data": {
            "text/plain": [
              "array([[0.1589 , 0.41772, 0.0947 , 0.44129, 0.16012],\n",
              "       [0.16012, 0.1589 , 0.41772, 0.0947 , 0.44129],\n",
              "       [0.44129, 0.16012, 0.1589 , 0.41772, 0.0947 ],\n",
              "       [0.0947 , 0.44129, 0.16012, 0.1589 , 0.41772],\n",
              "       [0.41772, 0.0947 , 0.44129, 0.16012, 0.1589 ]])"
            ]
          },
          "metadata": {},
          "execution_count": 50
        }
      ]
    },
    {
      "cell_type": "markdown",
      "source": [
        "las matrices circulantes forman un grupo abeliano $(G, \\circ)$:\n",
        "$$\n",
        "g \\circ h = h \\circ g \n",
        "$$\n",
        "para todo elemento $g, h \\in G$"
      ],
      "metadata": {
        "id": "R6bxJwmLnpOB"
      }
    },
    {
      "cell_type": "code",
      "source": [],
      "metadata": {
        "id": "Y_fHog-lnoUv"
      },
      "execution_count": null,
      "outputs": []
    },
    {
      "cell_type": "code",
      "execution_count": null,
      "metadata": {
        "id": "sGJw28apkMuh"
      },
      "outputs": [],
      "source": [
        "# A+B es circulante\n"
      ]
    },
    {
      "cell_type": "code",
      "execution_count": null,
      "metadata": {
        "id": "KfSjRkNfkMuh"
      },
      "outputs": [],
      "source": [
        "# AB == AB, la traspuesta de una matrix ciruclante es:  \n"
      ]
    },
    {
      "cell_type": "code",
      "execution_count": null,
      "metadata": {
        "id": "NoabQHR1kMui"
      },
      "outputs": [],
      "source": [
        "# funcion para matriz circulante\n",
        "# corre todos los TESTS\n"
      ]
    },
    {
      "cell_type": "code",
      "execution_count": null,
      "metadata": {
        "id": "ZKHaGAFLkMui"
      },
      "outputs": [],
      "source": []
    },
    {
      "cell_type": "markdown",
      "source": [
        "## FFT"
      ],
      "metadata": {
        "id": "vU_FIOCb0yG9"
      }
    },
    {
      "cell_type": "code",
      "source": [
        "def FFT(P: np.array):\n",
        "    N = len(P)\n",
        "\n",
        "    if N == 1:\n",
        "        return P\n",
        "\n",
        "    if (N%2 != 0): # es innecesario pero ayuda al lector\n",
        "        P = np.insert(P, N-1,0)\n",
        "    \n",
        "    w = np.exp(2 * np.pi * 1j / N)\n",
        "    Ppar, Pimpar = P[0::2], P[1::2] # coefciientes polinomio\n",
        "    y_par, y_impar = FFT(Ppar), FFT(Pimpar)\n",
        "    y = [0] * N\n",
        "\n",
        "    \n",
        "\n",
        "    for j in range(N//2):\n",
        "        y[j] = y_par[j] + w**j * y_impar[j]\n",
        "        y[j+ N//2] = y_par[j] - w**j * y_impar[j]\n",
        "    return y\n",
        "\n",
        "def IFFT(P: np.array):\n",
        "    N = len(P)\n",
        "\n",
        "    if N == 1:\n",
        "        return P\n",
        "    w = (1/N) * np.exp(-2 * np.pi * 1j / N)\n",
        "    Ppar, Pimpar = P[0::2], P[1::2] # coefciientes polinomio\n",
        "    y_par, y_impar = IFFT(Ppar), IFFT(Pimpar)\n",
        "    y = [0] * N\n",
        "    for j in range(N/2):\n",
        "        y[j] = y_par[j] + w**j * y_impar[j]\n",
        "        y[j+ N/2] = y_par[j] - w**j * y_impar[j]\n",
        "    return y"
      ],
      "metadata": {
        "id": "vPc39IGm0zX4"
      },
      "execution_count": null,
      "outputs": []
    },
    {
      "cell_type": "code",
      "source": [
        "#https://python.quantecon.org/eig_circulant.html \n",
        "\n",
        "# https://sci-hub.se/https://www.jstor.org/stable/2689823\n",
        "    # la notacion es algo messy y no tiene una conclusion clara\n",
        "\n",
        "# https://www.tutorialspoint.com/how-to-solve-a-circulant-matrix-equation-using-python-scipy\n"
      ],
      "metadata": {
        "id": "hl1vso272I7U",
        "outputId": "fae89098-918c-40ca-b2a6-dc06fb78a5c8",
        "colab": {
          "base_uri": "https://localhost:8080/",
          "height": 37
        }
      },
      "execution_count": null,
      "outputs": [
        {
          "output_type": "execute_result",
          "data": {
            "text/plain": [
              "2"
            ],
            "text/latex": "$\\displaystyle 2$"
          },
          "metadata": {},
          "execution_count": 61
        }
      ]
    },
    {
      "cell_type": "code",
      "source": [
        "P = np.array([-1,0,1,0])\n",
        "N = len(P)\n",
        "FFT(P)"
      ],
      "metadata": {
        "id": "aHEeL-wW1s8i",
        "outputId": "a831f97e-8503-4db4-e957-db222d55c29c",
        "colab": {
          "base_uri": "https://localhost:8080/"
        }
      },
      "execution_count": null,
      "outputs": [
        {
          "output_type": "execute_result",
          "data": {
            "text/plain": [
              "[0j, (-2+0j), 0j, (-2+0j)]"
            ]
          },
          "metadata": {},
          "execution_count": 67
        }
      ]
    },
    {
      "cell_type": "code",
      "source": [
        "P = np.array([-1,0,1,0,0])\n",
        "FFT(P)"
      ],
      "metadata": {
        "id": "2tTExHl70zWJ",
        "outputId": "bb6e0e8f-3ec9-49ff-a02f-1b64af0c738c",
        "colab": {
          "base_uri": "https://localhost:8080/"
        }
      },
      "execution_count": null,
      "outputs": [
        {
          "output_type": "execute_result",
          "data": {
            "text/plain": [
              "[0j, (-2+0j), 0j, (-2+0j), 0]"
            ]
          },
          "metadata": {},
          "execution_count": 81
        }
      ]
    },
    {
      "cell_type": "markdown",
      "source": [
        "# Resolver polinomios\n",
        "el polinomio a resolver ha de ser la determinante de nuestra matriz circulante.\n",
        "\n",
        "tengamos un polinomio de grado $n$\n",
        "\n",
        "$$\n",
        "C = \n",
        "\\left( \\begin{matrix}\n",
        "c_0 & c_1 & \\dots & c_{n-1} \\\\ \n",
        "c_{n-1} & c_0 & \\dots & c_{n-2} \\\\ \n",
        "\\dots \\\\\n",
        "c_1\n",
        "\\end{matrix}\n",
        "\\right)\n",
        "$$\n",
        "\n",
        "$$\n",
        "\\det (xI - C) = p(x) \\propto O(x^n)\n",
        "$$\n",
        "esta es la parte que puede ser mas compleja; resolvemos la ecuacion \n",
        "\n",
        "\n",
        "\n",
        "una vez conseguida la matriz circulante $C$, la primera fila contiene un vector que nos entrega las raices al evaluarse en $\\omega^k$\n",
        "\n",
        "$$q(x) = c_0 + c_1 x + c_2 x^2 + \\dots c_{n-1} x^{n-1}$$\n",
        "\n",
        "las raices de p: $q(\\omega^k)$"
      ],
      "metadata": {
        "id": "vhzjrERKV4dB"
      }
    },
    {
      "cell_type": "code",
      "source": [
        "\n"
      ],
      "metadata": {
        "id": "rdSSL7JP2xBc"
      },
      "execution_count": null,
      "outputs": []
    },
    {
      "cell_type": "code",
      "source": [
        "FFT2(P)"
      ],
      "metadata": {
        "id": "_h6b8kPo0zT4",
        "outputId": "6d0475b4-fd96-4bbf-c855-345ea58af103",
        "colab": {
          "base_uri": "https://localhost:8080/"
        }
      },
      "execution_count": null,
      "outputs": [
        {
          "output_type": "execute_result",
          "data": {
            "text/plain": [
              "[0j, (-2+0j), 0j, (-2+0j), 0]"
            ]
          },
          "metadata": {},
          "execution_count": 83
        }
      ]
    },
    {
      "cell_type": "code",
      "source": [
        "N = len(P)\n",
        "np.insert(P, N-1,0)"
      ],
      "metadata": {
        "id": "pA9u0Ntg0zSD",
        "outputId": "8e09ba4d-348c-4e2e-9f5d-f26a7171cb8c",
        "colab": {
          "base_uri": "https://localhost:8080/"
        }
      },
      "execution_count": null,
      "outputs": [
        {
          "output_type": "execute_result",
          "data": {
            "text/plain": [
              "array([-1,  0,  1,  0,  0,  0])"
            ]
          },
          "metadata": {},
          "execution_count": 78
        }
      ]
    },
    {
      "cell_type": "code",
      "source": [
        "np.insert?"
      ],
      "metadata": {
        "id": "bFmWWC3O0zP3"
      },
      "execution_count": null,
      "outputs": []
    },
    {
      "cell_type": "code",
      "source": [],
      "metadata": {
        "id": "-13NUxVU0zOJ"
      },
      "execution_count": null,
      "outputs": []
    },
    {
      "cell_type": "code",
      "source": [],
      "metadata": {
        "id": "dBikWIi80zLw"
      },
      "execution_count": null,
      "outputs": []
    },
    {
      "cell_type": "code",
      "source": [],
      "metadata": {
        "id": "Juhbppm80zJf"
      },
      "execution_count": null,
      "outputs": []
    },
    {
      "cell_type": "markdown",
      "metadata": {
        "id": "nx8HW0J2kMui"
      },
      "source": [
        "# playground"
      ]
    },
    {
      "cell_type": "code",
      "execution_count": null,
      "metadata": {
        "id": "cDt7ABeVkMui"
      },
      "outputs": [],
      "source": [
        "# que es esto?\n",
        "\n",
        "from scipy.linalg import solve_circulant, solve, circulant, lstsq\n",
        "import numpy as np\n",
        "c = np.array([2,2,4])\n",
        "b = np.array([1,2,3])\n",
        "solve_circulant(c,b)"
      ]
    },
    {
      "cell_type": "code",
      "execution_count": null,
      "metadata": {
        "id": "28JMJxIekMuj"
      },
      "outputs": [],
      "source": [
        "# metodo integracioni de romberg"
      ]
    }
  ],
  "metadata": {
    "kernelspec": {
      "display_name": "Python 3.9.13 ('base')",
      "language": "python",
      "name": "python3"
    },
    "language_info": {
      "codemirror_mode": {
        "name": "ipython",
        "version": 3
      },
      "file_extension": ".py",
      "mimetype": "text/x-python",
      "name": "python",
      "nbconvert_exporter": "python",
      "pygments_lexer": "ipython3",
      "version": "3.9.13"
    },
    "orig_nbformat": 4,
    "vscode": {
      "interpreter": {
        "hash": "ad2bdc8ecc057115af97d19610ffacc2b4e99fae6737bb82f5d7fb13d2f2c186"
      }
    },
    "colab": {
      "provenance": [],
      "collapsed_sections": [
        "AAXY4pvbnLMq"
      ]
    }
  },
  "nbformat": 4,
  "nbformat_minor": 0
}