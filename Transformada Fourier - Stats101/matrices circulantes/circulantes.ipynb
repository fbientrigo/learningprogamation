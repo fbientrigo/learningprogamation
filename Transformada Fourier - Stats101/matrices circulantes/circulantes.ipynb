{
 "cells": [
  {
   "cell_type": "code",
   "execution_count": 2,
   "metadata": {},
   "outputs": [],
   "source": [
    "import numpy as np\n",
    "import matplotlib.pyplot as plt\n"
   ]
  },
  {
   "cell_type": "code",
   "execution_count": 4,
   "metadata": {},
   "outputs": [],
   "source": [
    "x = np.array([i for i in range(10)])\n"
   ]
  },
  {
   "cell_type": "code",
   "execution_count": 8,
   "metadata": {},
   "outputs": [
    {
     "data": {
      "text/plain": [
       "[<matplotlib.lines.Line2D at 0x1e4470fb550>]"
      ]
     },
     "execution_count": 8,
     "metadata": {},
     "output_type": "execute_result"
    },
    {
     "data": {
      "image/png": "[encoded data removed]",
      "text/plain": [
       "<Figure size 640x480 with 1 Axes>"
      ]
     },
     "metadata": {},
     "output_type": "display_data"
    }
   ],
   "source": [
    "# que relacion tiene el plot\n",
    "plt.plot(x,x)"
   ]
  },
  {
   "cell_type": "code",
   "execution_count": 16,
   "metadata": {},
   "outputs": [],
   "source": [
    "import numpy as np\n",
    "import matplotlib.pyplot as plt\n",
    "%matplotlib inline"
   ]
  },
  {
   "cell_type": "code",
   "execution_count": 36,
   "metadata": {},
   "outputs": [],
   "source": [
    "np.set_printoptions(precision=5, suppress=True)"
   ]
  },
  {
   "cell_type": "code",
   "execution_count": 15,
   "metadata": {},
   "outputs": [],
   "source": [
    "from numba import njit"
   ]
  },
  {
   "cell_type": "code",
   "execution_count": 22,
   "metadata": {},
   "outputs": [],
   "source": [
    "@njit\n",
    "def construct_circulant(row : np.array):\n",
    "\n",
    "    N = row.size\n",
    "\n",
    "    C = np.empty((N,N))\n",
    "\n",
    "    for i in range(N):\n",
    "\n",
    "        C[i,i:] = row[:N-i]\n",
    "        C[i,:i] = row[N-i:]\n",
    "    return C\n"
   ]
  },
  {
   "cell_type": "code",
   "execution_count": 37,
   "metadata": {},
   "outputs": [
    {
     "data": {
      "text/plain": [
       "array([[0., 1., 2., 3., 4., 5., 6., 7., 8., 9.],\n",
       "       [9., 0., 1., 2., 3., 4., 5., 6., 7., 8.],\n",
       "       [8., 9., 0., 1., 2., 3., 4., 5., 6., 7.],\n",
       "       [7., 8., 9., 0., 1., 2., 3., 4., 5., 6.],\n",
       "       [6., 7., 8., 9., 0., 1., 2., 3., 4., 5.],\n",
       "       [5., 6., 7., 8., 9., 0., 1., 2., 3., 4.],\n",
       "       [4., 5., 6., 7., 8., 9., 0., 1., 2., 3.],\n",
       "       [3., 4., 5., 6., 7., 8., 9., 0., 1., 2.],\n",
       "       [2., 3., 4., 5., 6., 7., 8., 9., 0., 1.],\n",
       "       [1., 2., 3., 4., 5., 6., 7., 8., 9., 0.]])"
      ]
     },
     "execution_count": 37,
     "metadata": {},
     "output_type": "execute_result"
    }
   ],
   "source": [
    "C = construct_circulant(x)\n",
    "C"
   ]
  },
  {
   "cell_type": "markdown",
   "metadata": {},
   "source": [
    "### regla conmutatividad"
   ]
  },
  {
   "cell_type": "code",
   "execution_count": 26,
   "metadata": {},
   "outputs": [
    {
     "data": {
      "text/plain": [
       "array([[ 2.,  3.,  4.,  5.,  6.,  7.,  8.,  9., 10., 11.],\n",
       "       [11.,  2.,  3.,  4.,  5.,  6.,  7.,  8.,  9., 10.],\n",
       "       [10., 11.,  2.,  3.,  4.,  5.,  6.,  7.,  8.,  9.],\n",
       "       [ 9., 10., 11.,  2.,  3.,  4.,  5.,  6.,  7.,  8.],\n",
       "       [ 8.,  9., 10., 11.,  2.,  3.,  4.,  5.,  6.,  7.],\n",
       "       [ 7.,  8.,  9., 10., 11.,  2.,  3.,  4.,  5.,  6.],\n",
       "       [ 6.,  7.,  8.,  9., 10., 11.,  2.,  3.,  4.,  5.],\n",
       "       [ 5.,  6.,  7.,  8.,  9., 10., 11.,  2.,  3.,  4.],\n",
       "       [ 4.,  5.,  6.,  7.,  8.,  9., 10., 11.,  2.,  3.],\n",
       "       [ 3.,  4.,  5.,  6.,  7.,  8.,  9., 10., 11.,  2.]])"
      ]
     },
     "execution_count": 26,
     "metadata": {},
     "output_type": "execute_result"
    }
   ],
   "source": [
    "A = construct_circulant(np.array([i for i in range(2,10+2)]))\n",
    "A"
   ]
  },
  {
   "cell_type": "code",
   "execution_count": 27,
   "metadata": {},
   "outputs": [
    {
     "data": {
      "text/plain": [
       "array([[ 0.,  3.,  8., 15., 24., 35., 48., 63., 80., 99.],\n",
       "       [99.,  0.,  3.,  8., 15., 24., 35., 48., 63., 80.],\n",
       "       [80., 99.,  0.,  3.,  8., 15., 24., 35., 48., 63.],\n",
       "       [63., 80., 99.,  0.,  3.,  8., 15., 24., 35., 48.],\n",
       "       [48., 63., 80., 99.,  0.,  3.,  8., 15., 24., 35.],\n",
       "       [35., 48., 63., 80., 99.,  0.,  3.,  8., 15., 24.],\n",
       "       [24., 35., 48., 63., 80., 99.,  0.,  3.,  8., 15.],\n",
       "       [15., 24., 35., 48., 63., 80., 99.,  0.,  3.,  8.],\n",
       "       [ 8., 15., 24., 35., 48., 63., 80., 99.,  0.,  3.],\n",
       "       [ 3.,  8., 15., 24., 35., 48., 63., 80., 99.,  0.]])"
      ]
     },
     "execution_count": 27,
     "metadata": {},
     "output_type": "execute_result"
    }
   ],
   "source": [
    "# conmutatividad\n",
    "A * C"
   ]
  },
  {
   "cell_type": "code",
   "execution_count": 28,
   "metadata": {},
   "outputs": [
    {
     "data": {
      "text/plain": [
       "array([[ 0.,  3.,  8., 15., 24., 35., 48., 63., 80., 99.],\n",
       "       [99.,  0.,  3.,  8., 15., 24., 35., 48., 63., 80.],\n",
       "       [80., 99.,  0.,  3.,  8., 15., 24., 35., 48., 63.],\n",
       "       [63., 80., 99.,  0.,  3.,  8., 15., 24., 35., 48.],\n",
       "       [48., 63., 80., 99.,  0.,  3.,  8., 15., 24., 35.],\n",
       "       [35., 48., 63., 80., 99.,  0.,  3.,  8., 15., 24.],\n",
       "       [24., 35., 48., 63., 80., 99.,  0.,  3.,  8., 15.],\n",
       "       [15., 24., 35., 48., 63., 80., 99.,  0.,  3.,  8.],\n",
       "       [ 8., 15., 24., 35., 48., 63., 80., 99.,  0.,  3.],\n",
       "       [ 3.,  8., 15., 24., 35., 48., 63., 80., 99.,  0.]])"
      ]
     },
     "execution_count": 28,
     "metadata": {},
     "output_type": "execute_result"
    }
   ],
   "source": [
    "C * A"
   ]
  },
  {
   "cell_type": "code",
   "execution_count": 32,
   "metadata": {},
   "outputs": [
    {
     "data": {
      "text/plain": [
       "array([[ True,  True,  True,  True,  True,  True,  True,  True,  True,\n",
       "         True],\n",
       "       [ True,  True,  True,  True,  True,  True,  True,  True,  True,\n",
       "         True],\n",
       "       [ True,  True,  True,  True,  True,  True,  True,  True,  True,\n",
       "         True],\n",
       "       [ True,  True,  True,  True,  True,  True,  True,  True,  True,\n",
       "         True],\n",
       "       [ True,  True,  True,  True,  True,  True,  True,  True,  True,\n",
       "         True],\n",
       "       [ True,  True,  True,  True,  True,  True,  True,  True,  True,\n",
       "         True],\n",
       "       [ True,  True,  True,  True,  True,  True,  True,  True,  True,\n",
       "         True],\n",
       "       [ True,  True,  True,  True,  True,  True,  True,  True,  True,\n",
       "         True],\n",
       "       [ True,  True,  True,  True,  True,  True,  True,  True,  True,\n",
       "         True],\n",
       "       [ True,  True,  True,  True,  True,  True,  True,  True,  True,\n",
       "         True]])"
      ]
     },
     "execution_count": 32,
     "metadata": {},
     "output_type": "execute_result"
    }
   ],
   "source": [
    "(A * C == C * A)\n",
    "    "
   ]
  },
  {
   "cell_type": "code",
   "execution_count": 33,
   "metadata": {},
   "outputs": [
    {
     "data": {
      "text/plain": [
       "True"
      ]
     },
     "execution_count": 33,
     "metadata": {},
     "output_type": "execute_result"
    }
   ],
   "source": [
    "np.all((A * C == C * A))\n",
    "# conmutatividad comprobada"
   ]
  },
  {
   "cell_type": "code",
   "execution_count": 38,
   "metadata": {},
   "outputs": [
    {
     "data": {
      "text/plain": [
       "array([[ 2., 11., 10.,  9.,  8.,  7.,  6.,  5.,  4.,  3.],\n",
       "       [ 3.,  2., 11., 10.,  9.,  8.,  7.,  6.,  5.,  4.],\n",
       "       [ 4.,  3.,  2., 11., 10.,  9.,  8.,  7.,  6.,  5.],\n",
       "       [ 5.,  4.,  3.,  2., 11., 10.,  9.,  8.,  7.,  6.],\n",
       "       [ 6.,  5.,  4.,  3.,  2., 11., 10.,  9.,  8.,  7.],\n",
       "       [ 7.,  6.,  5.,  4.,  3.,  2., 11., 10.,  9.,  8.],\n",
       "       [ 8.,  7.,  6.,  5.,  4.,  3.,  2., 11., 10.,  9.],\n",
       "       [ 9.,  8.,  7.,  6.,  5.,  4.,  3.,  2., 11., 10.],\n",
       "       [10.,  9.,  8.,  7.,  6.,  5.,  4.,  3.,  2., 11.],\n",
       "       [11., 10.,  9.,  8.,  7.,  6.,  5.,  4.,  3.,  2.]])"
      ]
     },
     "execution_count": 38,
     "metadata": {},
     "output_type": "execute_result"
    }
   ],
   "source": [
    "np.transpose(A)"
   ]
  },
  {
   "cell_type": "code",
   "execution_count": 35,
   "metadata": {},
   "outputs": [
    {
     "data": {
      "text/plain": [
       "array([[ 2.,  3.,  4.,  5.,  6.,  7.,  8.,  9., 10., 11.],\n",
       "       [11.,  2.,  3.,  4.,  5.,  6.,  7.,  8.,  9., 10.],\n",
       "       [10., 11.,  2.,  3.,  4.,  5.,  6.,  7.,  8.,  9.],\n",
       "       [ 9., 10., 11.,  2.,  3.,  4.,  5.,  6.,  7.,  8.],\n",
       "       [ 8.,  9., 10., 11.,  2.,  3.,  4.,  5.,  6.,  7.],\n",
       "       [ 7.,  8.,  9., 10., 11.,  2.,  3.,  4.,  5.,  6.],\n",
       "       [ 6.,  7.,  8.,  9., 10., 11.,  2.,  3.,  4.,  5.],\n",
       "       [ 5.,  6.,  7.,  8.,  9., 10., 11.,  2.,  3.,  4.],\n",
       "       [ 4.,  5.,  6.,  7.,  8.,  9., 10., 11.,  2.,  3.],\n",
       "       [ 3.,  4.,  5.,  6.,  7.,  8.,  9., 10., 11.,  2.]])"
      ]
     },
     "execution_count": 35,
     "metadata": {},
     "output_type": "execute_result"
    }
   ],
   "source": [
    "A"
   ]
  },
  {
   "cell_type": "markdown",
   "metadata": {},
   "source": [
    "# scipy"
   ]
  },
  {
   "cell_type": "code",
   "execution_count": 47,
   "metadata": {},
   "outputs": [],
   "source": [
    "sc.init_printing(use_latex='mathjax')"
   ]
  },
  {
   "cell_type": "code",
   "execution_count": 48,
   "metadata": {},
   "outputs": [
    {
     "data": {
      "text/plain": [
       "array([[0., 1., 2., 3., 4., 5., 6., 7., 8., 9.],\n",
       "       [9., 0., 1., 2., 3., 4., 5., 6., 7., 8.],\n",
       "       [8., 9., 0., 1., 2., 3., 4., 5., 6., 7.],\n",
       "       [7., 8., 9., 0., 1., 2., 3., 4., 5., 6.],\n",
       "       [6., 7., 8., 9., 0., 1., 2., 3., 4., 5.],\n",
       "       [5., 6., 7., 8., 9., 0., 1., 2., 3., 4.],\n",
       "       [4., 5., 6., 7., 8., 9., 0., 1., 2., 3.],\n",
       "       [3., 4., 5., 6., 7., 8., 9., 0., 1., 2.],\n",
       "       [2., 3., 4., 5., 6., 7., 8., 9., 0., 1.],\n",
       "       [1., 2., 3., 4., 5., 6., 7., 8., 9., 0.]])"
      ]
     },
     "metadata": {},
     "output_type": "display_data"
    }
   ],
   "source": [
    "from IPython.display import display\n",
    "display(C)"
   ]
  },
  {
   "cell_type": "code",
   "execution_count": 50,
   "metadata": {},
   "outputs": [
    {
     "name": "stdout",
     "output_type": "stream",
     "text": [
      " [[0. 1. 2. 3. 4. 5. 6. 7. 8. 9.]\n",
      "  [9. 0. 1. 2. 3. 4. 5. 6. 7. 8.]\n",
      "  [8. 9. 0. 1. 2. 3. 4. 5. 6. 7.]\n",
      "  [7. 8. 9. 0. 1. 2. 3. 4. 5. 6.]\n",
      "  [6. 7. 8. 9. 0. 1. 2. 3. 4. 5.]\n",
      "  [5. 6. 7. 8. 9. 0. 1. 2. 3. 4.]\n",
      "  [4. 5. 6. 7. 8. 9. 0. 1. 2. 3.]\n",
      "  [3. 4. 5. 6. 7. 8. 9. 0. 1. 2.]\n",
      "  [2. 3. 4. 5. 6. 7. 8. 9. 0. 1.]\n",
      " [1. 2. 3. 4. 5. 6. 7. 8. 9. 0.]]\n"
     ]
    }
   ],
   "source": [
    "#import sympy as sc\n",
    "\n",
    "sc.pprint(C)"
   ]
  },
  {
   "cell_type": "code",
   "execution_count": null,
   "metadata": {},
   "outputs": [],
   "source": []
  },
  {
   "cell_type": "code",
   "execution_count": null,
   "metadata": {},
   "outputs": [],
   "source": []
  },
  {
   "cell_type": "code",
   "execution_count": null,
   "metadata": {},
   "outputs": [],
   "source": []
  },
  {
   "cell_type": "code",
   "execution_count": null,
   "metadata": {},
   "outputs": [],
   "source": []
  },
  {
   "cell_type": "code",
   "execution_count": null,
   "metadata": {},
   "outputs": [],
   "source": []
  },
  {
   "cell_type": "markdown",
   "metadata": {},
   "source": [
    "# playground"
   ]
  },
  {
   "cell_type": "code",
   "execution_count": null,
   "metadata": {},
   "outputs": [],
   "source": [
    "# que es esto?\n",
    "\n",
    "from scipy.linalg import solve_circulant, solve, circulant, lstsq\n",
    "import numpy as np\n",
    "c = np.array([2,2,4])\n",
    "b = np.array([1,2,3])\n",
    "solve_circulant(c,b)"
   ]
  },
  {
   "cell_type": "code",
   "execution_count": null,
   "metadata": {},
   "outputs": [],
   "source": []
  }
 ],
 "metadata": {
  "kernelspec": {
   "display_name": "Python 3.9.13 ('base')",
   "language": "python",
   "name": "python3"
  },
  "language_info": {
   "codemirror_mode": {
    "name": "ipython",
    "version": 3
   },
   "file_extension": ".py",
   "mimetype": "text/x-python",
   "name": "python",
   "nbconvert_exporter": "python",
   "pygments_lexer": "ipython3",
   "version": "3.9.13"
  },
  "orig_nbformat": 4,
  "vscode": {
   "interpreter": {
    "hash": "ad2bdc8ecc057115af97d19610ffacc2b4e99fae6737bb82f5d7fb13d2f2c186"
   }
  }
 },
 "nbformat": 4,
 "nbformat_minor": 2
}
