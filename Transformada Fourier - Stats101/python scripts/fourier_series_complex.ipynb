{
  "cells": [
    {
      "cell_type": "code",
      "execution_count": 1,
      "metadata": {
        "id": "tZZN2ERIg3O1"
      },
      "outputs": [],
      "source": [
        "import numpy as np\n",
        "import matplotlib.pyplot as plt\n",
        "%matplotlib inline"
      ]
    },
    {
      "cell_type": "markdown",
      "metadata": {
        "id": "qE1XejgMg3PE"
      },
      "source": [
        "# Serie de Fourier Compleja\n",
        "$$\n",
        "f[x] = \\sum_{k=0}^\\infty \\gamma_k e^{i \\omega k x}\n",
        "$$\n",
        "\n",
        "$\\omega = \\frac{2\\pi}{T}$\n",
        "donde $T$ es el periodo de la onda"
      ]
    },
    {
      "cell_type": "code",
      "execution_count": 2,
      "metadata": {
        "colab": {
          "base_uri": "https://localhost:8080/"
        },
        "id": "mKwB8GjAg3PP",
        "outputId": "8d1b19de-a92c-4c20-c40e-9167ca2bc24f"
      },
      "outputs": [
        {
          "output_type": "stream",
          "name": "stdout",
          "text": [
            "x: [-3.14159265 -3.13845106 -3.13530947 ...  3.13530947  3.13845106\n",
            "  3.14159265]\n",
            "using N: 2001\n",
            "T: 6.283185307179592 = 2 pi\n"
          ]
        }
      ],
      "source": [
        "# definimos la funcion creando un domain\n",
        "dx = 0.001\n",
        "L = np.pi # limite superior e inferior [-pi, pi]\n",
        "x = L * np.arange(-1, 1+dx, dx)\n",
        "print(\"x:\",x)\n",
        "\n",
        "N = len(x) #en este ejemplo en particular definimos x asi\n",
        "print(\"using N:\",N)\n",
        "\n",
        "# el periodo seria\n",
        "T = x[-1] - x[0]\n",
        "print(\"T:\", T, \"= 2 pi\")"
      ]
    },
    {
      "cell_type": "code",
      "execution_count": 3,
      "metadata": {
        "colab": {
          "base_uri": "https://localhost:8080/",
          "height": 218
        },
        "id": "LHs_0Xwsg3PU",
        "outputId": "a957a912-871c-454d-c227-52e66a35da1e"
      },
      "outputs": [
        {
          "output_type": "stream",
          "name": "stdout",
          "text": [
            "N/4: 500\n"
          ]
        },
        {
          "output_type": "display_data",
          "data": {
            "text/plain": [
              "<Figure size 360x180 with 1 Axes>"
            ],
            "image/png": "[encoded data removed]"
          },
          "metadata": {
            "needs_background": "light"
          }
        }
      ],
      "source": [
        "# definir la funcion / Ingresar datos\n",
        "Nquart = int(np.floor(N/4))\n",
        "print(\"N/4:\", Nquart)\n",
        "\n",
        "f = np.zeros_like(x) #crea un arreglo identico a x pero con zeros\n",
        "f[:Nquart] = 1\n",
        "f[Nquart:2*Nquart] = 0\n",
        "f[2*Nquart:3*Nquart] = -1\n",
        "f[3*Nquart:] = 0\n",
        "\n",
        "\n",
        "# ------------\n",
        "fig, ax = plt.subplots(figsize=(5,2.5))\n",
        "plt.title('Funcion que Trabajamos')\n",
        "plt.plot(x,f)\n",
        "plt.show()"
      ]
    },
    {
      "cell_type": "markdown",
      "metadata": {
        "id": "MRD2m1I2g3PX"
      },
      "source": [
        "## calcular la serie de Fourier\n",
        "\n",
        "$$\n",
        "\\gamma_k =\\frac{1}{T} \\int_{t_0}^{t_0+T} f[x) \\exp[-i \\omega k x) dx\n",
        "$$\n",
        "\n",
        "donde $\\omega = \\frac{2\\pi}{T}$\n",
        "\n",
        "### la integral es discretizable a:\n",
        "Vease el notebook adjunto `regla_trapezoidal.ipynb`\n",
        "\n",
        "$h= \\frac{T}{N}$\n",
        "\n",
        "$x=nT/N$\n",
        "\n",
        "$$\n",
        "\\gamma_k = \\frac{1}{T} h \\sum_{n=0}^{N-1} y_n \\exp[-i \\omega k x)\n",
        "$$\n",
        "\n",
        "donde ocurre\n",
        "\n",
        "$-i \\omega k x = -i \\frac{2\\pi}{T} k \\frac{n T}{N} = -i 2\\pi k n / N $\n",
        "\n",
        "$ \\frac{h}{T} = \\frac{1}{N}$\n",
        "\n",
        "$$\n",
        "\\gamma_k = \\frac{1}{N} \\sum_{n=0}^{N-1} y_n \\exp[-i 2\\pi k n / N)\n",
        "$$\n",
        "\n",
        "sin embargo la transformada discreta por convencion es sin el facotr 1/N, ese factor va ligado a la transformada inversa (la matematica funciona perfecta cualquiera sea la eleccion):\n",
        "\n",
        "$$\n",
        "c_k = N\\gamma_k =\n",
        "\\sum_{n=0}^{N-1} y_n \\exp[-i 2\\pi k n / N)\n",
        "$$\n",
        "\n",
        "$$\n",
        "y_n = \\frac{1}{N} \\sum_{k=0}^{N-1} c_k \\exp[i 2\\pi k n / N)\n",
        "$$"
      ]
    },
    {
      "cell_type": "markdown",
      "metadata": {
        "id": "87ikdK0Mg3Pb"
      },
      "source": [
        "los coeficientes a calcular se guardan como un arreglo\n",
        "$$ c_k = c[k]$$\n"
      ]
    },
    {
      "cell_type": "code",
      "execution_count": 4,
      "metadata": {
        "colab": {
          "base_uri": "https://localhost:8080/"
        },
        "id": "AE2KFtNOg3Pe",
        "outputId": "56f273fe-c395-4159-8efe-2354111c53e6"
      },
      "outputs": [
        {
          "output_type": "stream",
          "name": "stdout",
          "text": [
            "c[k]: [   0.        +0.00000000e+00j  638.43500642-6.34936384e+02j\n",
            "   -0.99998583-5.49501705e-03j ... -210.80348142+2.14307564e+02j\n",
            "   -0.99998583+5.49501705e-03j  638.43500642+6.34936384e+02j]\n"
          ]
        }
      ],
      "source": [
        "# para los 0's complejos se especifica\n",
        "# y se utilizan solo la mitad positiva, pues para una funcioon real la mitad \n",
        "# seran identicos\n",
        "M = N\n",
        "c = np.zeros(M, complex)\n",
        "\n",
        "# omega = 2 * np.pi / T # se puede utilizar la representacion \n",
        "# x = nT/N\n",
        "\n",
        "for k in range(0, M):\n",
        "    for n in range(0, N):\n",
        "        c[k] += f[n] * np.exp(-1j * 2*np.pi * k * n / N)\n",
        "\n",
        "\n",
        "print(\"c[k]:\",c)"
      ]
    },
    {
      "cell_type": "markdown",
      "metadata": {
        "id": "fM5XoAZHg3Ph"
      },
      "source": [
        "## rearmando la funcion\n",
        "\n",
        "$$\n",
        "y_n = \\frac{1}{N} \\sum_{k=0}^{N-1} c_k \\exp[i 2\\pi k n / N)\n",
        "$$\n"
      ]
    },
    {
      "cell_type": "code",
      "source": [
        "counter = 1\n",
        "str(counter).zfill(4)"
      ],
      "metadata": {
        "colab": {
          "base_uri": "https://localhost:8080/",
          "height": 36
        },
        "id": "KOfKZRYUjZrH",
        "outputId": "edcdbf01-c63e-441b-ef2c-cdc2941ea462"
      },
      "execution_count": 11,
      "outputs": [
        {
          "output_type": "execute_result",
          "data": {
            "text/plain": [
              "'0001'"
            ],
            "application/vnd.google.colaboratory.intrinsic+json": {
              "type": "string"
            }
          },
          "metadata": {},
          "execution_count": 11
        }
      ]
    },
    {
      "cell_type": "code",
      "execution_count": 36,
      "metadata": {
        "colab": {
          "base_uri": "https://localhost:8080/"
        },
        "id": "HjdQrYN3g3Pi",
        "outputId": "889b1226-f6d8-41d7-f667-5841249e70c0"
      },
      "outputs": [
        {
          "output_type": "stream",
          "name": "stdout",
          "text": [
            "mkdir: cannot create directory ‘plots’: File exists\n"
          ]
        }
      ],
      "source": [
        "F = np.zeros_like(x, complex)\n",
        "\n",
        "# donde dejar las imagenes\n",
        "!mkdir plots\n",
        "\n",
        "counter = 0\n",
        "for k in range(0, M):\n",
        "    for n in range(0, N): # suma interna de todos los puntos\n",
        "        F[n] += c[k] * np.exp(1j * 2     *np.pi * k * n / N) / N\n",
        "    \n",
        "    #if ((k % 20  == 0) and k>1950):\n",
        "    if (k % 5  == 0):\n",
        "        fig, ax = plt.subplots(figsize=(16,8), clear=True)\n",
        "        ax.plot(x, f, label='Original') \n",
        "        ax.plot(x, F.real, '--')\n",
        "        plt.legend()\n",
        "        plt.savefig(f'plots/{str(counter).zfill(4)}.png')\n",
        "        counter += 1\n",
        "        plt.ioff() # apaga modo interactivo para intentar arreglar el memory leak problem\n",
        "        plt.close()\n"
      ]
    },
    {
      "cell_type": "code",
      "source": [
        "# repeat for last frame a second:\n",
        "fps = int(counter/5)\n",
        "for i in range(fps):\n",
        "    fig, ax = plt.subplots(figsize=(16,8), clear=True)\n",
        "    ax.plot(x, f, label='Original') \n",
        "    ax.plot(x, F.real, '--')\n",
        "    plt.legend()\n",
        "    plt.savefig(f'plots/{str(counter).zfill(4)}.png')\n",
        "    counter += 1\n",
        "    plt.ioff() # apaga modo interactivo para intentar arreglar el memory leak problem\n",
        "    plt.close()"
      ],
      "metadata": {
        "id": "l6l_iyhWn3zP"
      },
      "execution_count": 38,
      "outputs": []
    },
    {
      "cell_type": "code",
      "source": [
        "counter = counter - counter/5\n",
        "print('cantidad de frames:', counter)\n",
        "# frame rate para 5 segundos\n",
        "print('frame rate f=', counter/5)"
      ],
      "metadata": {
        "colab": {
          "base_uri": "https://localhost:8080/"
        },
        "id": "2wMPfmDUmNqe",
        "outputId": "5da4b5a6-cac2-4d50-f826-d9942f044837"
      },
      "execution_count": 44,
      "outputs": [
        {
          "output_type": "stream",
          "name": "stdout",
          "text": [
            "cantidad de frames: 384.8\n",
            "frame rate f= 76.96000000000001\n"
          ]
        }
      ]
    },
    {
      "cell_type": "code",
      "source": [
        "# codigo para juntarlo en un archivo mp4\n",
        "!ffmpeg -r 80.2 -i 'plots/%04d.png' -pix_fmt yuv420p -qscale 1 complex_fourier.mp4"
      ],
      "metadata": {
        "id": "xb-JYh5sh2mv"
      },
      "execution_count": null,
      "outputs": []
    },
    {
      "cell_type": "code",
      "source": [
        "from google.colab import files\n",
        "files.download('./complex_fourier.mp4')\n"
      ],
      "metadata": {
        "colab": {
          "base_uri": "https://localhost:8080/",
          "height": 17
        },
        "id": "ReG6e1voiiXG",
        "outputId": "b882e6d0-fcbf-4b8f-a353-7a4e7e53fae1"
      },
      "execution_count": 46,
      "outputs": [
        {
          "output_type": "display_data",
          "data": {
            "text/plain": [
              "<IPython.core.display.Javascript object>"
            ],
            "application/javascript": [
              "\n",
              "    async function download(id, filename, size) {\n",
              "      if (!google.colab.kernel.accessAllowed) {\n",
              "        return;\n",
              "      }\n",
              "      const div = document.createElement('div');\n",
              "      const label = document.createElement('label');\n",
              "      label.textContent = `Downloading \"${filename}\": `;\n",
              "      div.appendChild(label);\n",
              "      const progress = document.createElement('progress');\n",
              "      progress.max = size;\n",
              "      div.appendChild(progress);\n",
              "      document.body.appendChild(div);\n",
              "\n",
              "      const buffers = [];\n",
              "      let downloaded = 0;\n",
              "\n",
              "      const channel = await google.colab.kernel.comms.open(id);\n",
              "      // Send a message to notify the kernel that we're ready.\n",
              "      channel.send({})\n",
              "\n",
              "      for await (const message of channel.messages) {\n",
              "        // Send a message to notify the kernel that we're ready.\n",
              "        channel.send({})\n",
              "        if (message.buffers) {\n",
              "          for (const buffer of message.buffers) {\n",
              "            buffers.push(buffer);\n",
              "            downloaded += buffer.byteLength;\n",
              "            progress.value = downloaded;\n",
              "          }\n",
              "        }\n",
              "      }\n",
              "      const blob = new Blob(buffers, {type: 'application/binary'});\n",
              "      const a = document.createElement('a');\n",
              "      a.href = window.URL.createObjectURL(blob);\n",
              "      a.download = filename;\n",
              "      div.appendChild(a);\n",
              "      a.click();\n",
              "      div.remove();\n",
              "    }\n",
              "  "
            ]
          },
          "metadata": {}
        },
        {
          "output_type": "display_data",
          "data": {
            "text/plain": [
              "<IPython.core.display.Javascript object>"
            ],
            "application/javascript": [
              "download(\"download_0acf1156-83eb-4481-8390-e49664cf56a8\", \"complex_fourier.mp4\", 209001)"
            ]
          },
          "metadata": {}
        }
      ]
    },
    {
      "cell_type": "code",
      "source": [
        "# borra los archivos luego de descargarlos\n",
        "!rm complex_fourier.mp4"
      ],
      "metadata": {
        "id": "X0F5VOnAlS-l"
      },
      "execution_count": 25,
      "outputs": []
    },
    {
      "cell_type": "code",
      "source": [
        "# borra la carpeta de plots\n",
        "!rm -r plots"
      ],
      "metadata": {
        "id": "1oUl73z3iajH"
      },
      "execution_count": 28,
      "outputs": []
    },
    {
      "cell_type": "code",
      "execution_count": null,
      "metadata": {
        "id": "H93W2i_1g3Pk",
        "outputId": "8e6df72e-70a6-44c6-b4c7-7b95f85390a3"
      },
      "outputs": [
        {
          "data": {
            "text/plain": [
              "array([1.00000000e+00, 1.00000000e+00, 1.00000000e+00, ...,\n",
              "       6.09123862e-13, 6.27331520e-13, 6.82454093e-13])"
            ]
          },
          "execution_count": 72,
          "metadata": {},
          "output_type": "execute_result"
        }
      ],
      "source": [
        "F.real"
      ]
    },
    {
      "cell_type": "code",
      "execution_count": null,
      "metadata": {
        "id": "Pbuf-c04g3Pm",
        "outputId": "5df9e7fe-deda-40fd-c807-336ccbc2c53d"
      },
      "outputs": [
        {
          "data": {
            "image/png": "[encoded data removed]",
            "text/plain": [
              "<Figure size 500x250 with 1 Axes>"
            ]
          },
          "metadata": {},
          "output_type": "display_data"
        }
      ],
      "source": [
        "# probando el plot final\n",
        "fig, ax = plt.subplots(figsize=(5,2.5))\n",
        "plt.plot(x, F.real, label='Fourier')\n",
        "plt.plot(x, f, label='Original')\n",
        "plt.legend()\n",
        "plt.show()"
      ]
    },
    {
      "cell_type": "markdown",
      "metadata": {
        "id": "lu9y5t3yg3Pn"
      },
      "source": [
        "# PlayGround"
      ]
    },
    {
      "cell_type": "code",
      "execution_count": 1,
      "metadata": {
        "colab": {
          "base_uri": "https://localhost:8080/",
          "height": 291
        },
        "id": "2UUqeCH2g3Po",
        "outputId": "ab52543c-1528-42fc-b68d-85ef4292b870"
      },
      "outputs": [
        {
          "output_type": "stream",
          "name": "stdout",
          "text": [
            "x: [-3.14159265 -3.13845106 -3.13530947 ...  3.13530947  3.13845106\n",
            "  3.14159265]\n",
            "using N: 2001\n",
            "T: 6.283185307179592 = 2 pi\n",
            "N/4: 500\n"
          ]
        },
        {
          "output_type": "display_data",
          "data": {
            "text/plain": [
              "<Figure size 360x180 with 1 Axes>"
            ],
            "image/png": "[encoded data removed]"
          },
          "metadata": {
            "needs_background": "light"
          }
        }
      ],
      "source": [
        "# definimos la funcion creando un domain\n",
        "import numpy as np\n",
        "import matplotlib.pyplot as plt\n",
        "%matplotlib inline\n",
        "\n",
        "dx = 0.001\n",
        "L = np.pi # limite superior e inferior [-pi, pi]\n",
        "x = L * np.arange(-1, 1+dx, dx)\n",
        "print(\"x:\",x)\n",
        "\n",
        "N = len(x)\n",
        "print(\"using N:\",N)\n",
        "\n",
        "# el periodo seria\n",
        "T = x[-1] - x[0]\n",
        "print(\"T:\", T, \"= 2 pi\")\n",
        "#del periodo viene omega que resume la informacion frecuencial\n",
        "\n",
        "\n",
        "# definir la funcion / Ingresar datos\n",
        "Nquart = int(np.floor(N/4))\n",
        "print(\"N/4:\", Nquart)\n",
        "\n",
        "f = np.zeros_like(x) #crea un arreglo identico a x pero con zeros\n",
        "# f[:Nquart] = 0 # el primer cuarto tiene 0's y el ultimo\n",
        "f[Nquart:2*Nquart] = np.linspace(0,1,Nquart)\n",
        "f[2*Nquart:3*Nquart] = np.linspace(1,0,Nquart)\n",
        "\n",
        "\n",
        "# ------------ plot de la funcion usada\n",
        "fig, ax = plt.subplots(figsize=(5,2.5))\n",
        "plt.title('Funcion que Trabajamos')\n",
        "plt.plot(x,f)\n",
        "plt.show()"
      ]
    },
    {
      "cell_type": "markdown",
      "source": [
        "### calcula la DFT"
      ],
      "metadata": {
        "id": "IYgTLwsmuQL3"
      }
    },
    {
      "cell_type": "code",
      "source": [
        "#  resolviendo con regla trapezoidal\n",
        "M = N\n",
        "c = np.zeros(M, complex)\n",
        "\n",
        "# omega = 2 * np.pi / T # se puede utilizar la representacion \n",
        "# x = nT/N\n",
        "\n",
        "for k in range(0, M):\n",
        "    for n in range(0, N):\n",
        "        c[k] += f[n] * np.exp(-1j * 2*np.pi * k * n / N)\n",
        "\n",
        "print(\"c[k]:\",c)\n"
      ],
      "metadata": {
        "colab": {
          "base_uri": "https://localhost:8080/"
        },
        "id": "T6cqf2i2uPVw",
        "outputId": "40fd808b-5de5-479a-e410-781f0b63ccdf"
      },
      "execution_count": 2,
      "outputs": [
        {
          "output_type": "stream",
          "name": "stdout",
          "text": [
            "c[k]: [ 500.        +0.j         -405.54363892-1.27342039j\n",
            "  203.2465952 +1.2764146j  ...  -45.48393591+0.42847444j\n",
            "  203.2465952 -1.2764146j  -405.54363892+1.27342039j]\n"
          ]
        }
      ]
    },
    {
      "cell_type": "markdown",
      "source": [
        "### la Inverse DFT"
      ],
      "metadata": {
        "id": "HWeGpP0cuR-4"
      }
    },
    {
      "cell_type": "code",
      "execution_count": 52,
      "metadata": {
        "colab": {
          "base_uri": "https://localhost:8080/",
          "height": 239
        },
        "id": "l4l19K7_g3Pp",
        "outputId": "2c159eae-ac77-40e7-be9a-2abb66fe460d"
      },
      "outputs": [
        {
          "output_type": "stream",
          "name": "stdout",
          "text": [
            "c[k]: [ 500.        +0.j         -405.54363892-1.27342039j\n",
            "  203.2465952 +1.2764146j  ...  -45.48393591+0.42847444j\n",
            "  203.2465952 -1.2764146j  -405.54363892+1.27342039j]\n"
          ]
        },
        {
          "output_type": "display_data",
          "data": {
            "text/plain": [
              "<Figure size 360x180 with 1 Axes>"
            ],
            "image/png": "[encoded data removed]"
          },
          "metadata": {
            "needs_background": "light"
          }
        }
      ],
      "source": [
        "\n",
        "\n",
        "# se realiza el plot con los coeficinetes ---- \n",
        "F = np.zeros_like(x, complex)\n",
        "\n",
        "fig, ax = plt.subplots(figsize=(5,2.5))\n",
        "plt.plot(x, f, label='Original')\n",
        "\n",
        "\n",
        "for k in range(0, M):\n",
        "    for n in range(0, N): # suma interna de todos los puntos\n",
        "        F[n] += c[k] * np.exp(1j * 2*np.pi * k * n / N) / N\n",
        "    \n",
        "    if ((k % 20  == 0) and k>1850):\n",
        "        plt.plot(x, F.real, '--')\n",
        "\n",
        "# F = F/N\n",
        "\n",
        "plt.legend()\n",
        "plt.show()"
      ]
    },
    {
      "cell_type": "markdown",
      "source": [
        "### animando la Inverse DFT"
      ],
      "metadata": {
        "id": "_qw82Mp-uVC_"
      }
    },
    {
      "cell_type": "code",
      "execution_count": null,
      "metadata": {
        "id": "I_rlukTZg3Pr"
      },
      "outputs": [],
      "source": [
        "# animando\n",
        "F = np.zeros_like(x, complex)\n",
        "# donde dejar las imagenes\n",
        "!mkdir plots\n",
        "\n",
        "counter = 0\n",
        "\n",
        "for k in range(0, M):\n",
        "    for n in range(0, N): # suma interna de todos los puntos\n",
        "        F[n] += c[k] * np.exp(1j * 2     *np.pi * k * n / N) / N\n",
        "\n",
        "        if (k % 20  == 0):\n",
        "                fig, ax = plt.subplots(figsize=(16,8), clear=True)\n",
        "                ax.plot(x, f, label='Original') \n",
        "                ax.plot(x, F.real, '--')\n",
        "                plt.legend()\n",
        "                plt.savefig(f'plots/{str(counter).zfill(4)}.png')\n",
        "                counter += 1\n",
        "                plt.ioff() # apaga modo interactivo para intentar arreglar el memory leak problem\n",
        "                plt.close()\n",
        "\n"
      ]
    },
    {
      "cell_type": "code",
      "source": [
        "# repeat for last frame a second:\n",
        "fps = int(counter/5)\n",
        "for i in range(fps):\n",
        "    fig, ax = plt.subplots(figsize=(16,8), clear=True)\n",
        "    ax.plot(x, f, label='Original') \n",
        "    ax.plot(x, F.real, '--')\n",
        "    plt.legend()\n",
        "    plt.savefig(f'plots/{str(counter).zfill(4)}.png')\n",
        "    counter += 1\n",
        "    plt.close()"
      ],
      "metadata": {
        "id": "XU78I5oMq_8q"
      },
      "execution_count": null,
      "outputs": []
    },
    {
      "cell_type": "code",
      "source": [
        "print('cantidad de frames:', counter)\n",
        "# frame rate para 5 segundos"
      ],
      "metadata": {
        "outputId": "5da4b5a6-cac2-4d50-f826-d9942f044837",
        "colab": {
          "base_uri": "https://localhost:8080/"
        },
        "id": "8VN-fSZNqoFF"
      },
      "execution_count": null,
      "outputs": [
        {
          "output_type": "stream",
          "name": "stdout",
          "text": [
            "cantidad de frames: 384.8\n",
            "frame rate f= 76.96000000000001\n"
          ]
        }
      ]
    },
    {
      "cell_type": "code",
      "source": [
        "# codigo para juntarlo en un archivo mp4\n",
        "!ffmpeg -r 60 -i 'plots/%04d.png' -pix_fmt yuv420p -qscale 1 complex_fourier.mp4"
      ],
      "metadata": {
        "outputId": "4019289d-9abb-4718-837a-441925b5f44a",
        "colab": {
          "base_uri": "https://localhost:8080/"
        },
        "id": "Io5mosesqoFG"
      },
      "execution_count": null,
      "outputs": [
        {
          "output_type": "stream",
          "name": "stdout",
          "text": [
            "ffmpeg version 3.4.11-0ubuntu0.1 Copyright (c) 2000-2022 the FFmpeg developers\n",
            "  built with gcc 7 (Ubuntu 7.5.0-3ubuntu1~18.04)\n",
            "  configuration: --prefix=/usr --extra-version=0ubuntu0.1 --toolchain=hardened --libdir=/usr/lib/x86_64-linux-gnu --incdir=/usr/include/x86_64-linux-gnu --enable-gpl --disable-stripping --enable-avresample --enable-avisynth --enable-gnutls --enable-ladspa --enable-libass --enable-libbluray --enable-libbs2b --enable-libcaca --enable-libcdio --enable-libflite --enable-libfontconfig --enable-libfreetype --enable-libfribidi --enable-libgme --enable-libgsm --enable-libmp3lame --enable-libmysofa --enable-libopenjpeg --enable-libopenmpt --enable-libopus --enable-libpulse --enable-librubberband --enable-librsvg --enable-libshine --enable-libsnappy --enable-libsoxr --enable-libspeex --enable-libssh --enable-libtheora --enable-libtwolame --enable-libvorbis --enable-libvpx --enable-libwavpack --enable-libwebp --enable-libx265 --enable-libxml2 --enable-libxvid --enable-libzmq --enable-libzvbi --enable-omx --enable-openal --enable-opengl --enable-sdl2 --enable-libdc1394 --enable-libdrm --enable-libiec61883 --enable-chromaprint --enable-frei0r --enable-libopencv --enable-libx264 --enable-shared\n",
            "  libavutil      55. 78.100 / 55. 78.100\n",
            "  libavcodec     57.107.100 / 57.107.100\n",
            "  libavformat    57. 83.100 / 57. 83.100\n",
            "  libavdevice    57. 10.100 / 57. 10.100\n",
            "  libavfilter     6.107.100 /  6.107.100\n",
            "  libavresample   3.  7.  0 /  3.  7.  0\n",
            "  libswscale      4.  8.100 /  4.  8.100\n",
            "  libswresample   2.  9.100 /  2.  9.100\n",
            "  libpostproc    54.  7.100 / 54.  7.100\n",
            "Input #0, image2, from 'plots/%04d.png':\n",
            "  Duration: 00:00:19.24, start: 0.000000, bitrate: N/A\n",
            "    Stream #0:0: Video: png, rgba(pc), 1152x576 [SAR 2834:2834 DAR 2:1], 25 fps, 25 tbr, 25 tbn, 25 tbc\n",
            "\u001b[0;33mPlease use -q:a or -q:v, -qscale is ambiguous\n",
            "\u001b[0mFile 'complex_fourier.mp4' already exists. Overwrite ? [y/N] y\n",
            "Stream mapping:\n",
            "  Stream #0:0 -> #0:0 (png (native) -> h264 (libx264))\n",
            "Press [q] to stop, [?] for help\n",
            "\u001b[1;36m[libx264 @ 0x563e4fe39e00] \u001b[0m\u001b[0;33m-qscale is ignored, -crf is recommended.\n",
            "\u001b[0m\u001b[1;36m[libx264 @ 0x563e4fe39e00] \u001b[0musing SAR=1/1\n",
            "\u001b[1;36m[libx264 @ 0x563e4fe39e00] \u001b[0musing cpu capabilities: MMX2 SSE2Fast SSSE3 SSE4.2 AVX FMA3 BMI2 AVX2\n",
            "\u001b[1;36m[libx264 @ 0x563e4fe39e00] \u001b[0mprofile High, level 3.2\n",
            "\u001b[1;36m[libx264 @ 0x563e4fe39e00] \u001b[0m264 - core 152 r2854 e9a5903 - H.264/MPEG-4 AVC codec - Copyleft 2003-2017 - http://www.videolan.org/x264.html - options: cabac=1 ref=3 deblock=1:0:0 analyse=0x3:0x113 me=hex subme=7 psy=1 psy_rd=1.00:0.00 mixed_ref=1 me_range=16 chroma_me=1 trellis=1 8x8dct=1 cqm=0 deadzone=21,11 fast_pskip=1 chroma_qp_offset=-2 threads=3 lookahead_threads=1 sliced_threads=0 nr=0 decimate=1 interlaced=0 bluray_compat=0 constrained_intra=0 bframes=3 b_pyramid=2 b_adapt=1 b_bias=0 direct=1 weightb=1 open_gop=0 weightp=2 keyint=250 keyint_min=25 scenecut=40 intra_refresh=0 rc_lookahead=40 rc=crf mbtree=1 crf=23.0 qcomp=0.60 qpmin=0 qpmax=69 qpstep=4 ip_ratio=1.40 aq=1:1.00\n",
            "Output #0, mp4, to 'complex_fourier.mp4':\n",
            "  Metadata:\n",
            "    encoder         : Lavf57.83.100\n",
            "    Stream #0:0: Video: h264 (libx264) (avc1 / 0x31637661), yuv420p, 1152x576 [SAR 1:1 DAR 2:1], q=-1--1, 80.20 fps, 12832 tbn, 80.20 tbc\n",
            "    Metadata:\n",
            "      encoder         : Lavc57.107.100 libx264\n",
            "    Side data:\n",
            "      cpb: bitrate max/min/avg: 0/0/0 buffer size: 0 vbv_delay: -1\n",
            "\u001b[0;33mPast duration 1.999992 too large\n",
            "    Last message repeated 45 times\n",
            "\u001b[0;33mPast duration 1.999992 too large\n",
            "    Last message repeated 32 times\n",
            "\u001b[0;33mPast duration 1.999992 too large\n",
            "    Last message repeated 34 times\n",
            "\u001b[0;33mPast duration 1.999992 too large\n",
            "    Last message repeated 34 times\n",
            "\u001b[0;33mPast duration 1.999992 too large\n",
            "    Last message repeated 34 times\n",
            "\u001b[0;33mPast duration 1.999992 too large\n",
            "    Last message repeated 34 times\n",
            "\u001b[0;33mPast duration 1.999992 too large\n",
            "    Last message repeated 36 times\n",
            "\u001b[0;33mPast duration 1.999992 too large\n",
            "    Last message repeated 34 times\n",
            "\u001b[0;33mPast duration 1.999992 too large\n",
            "    Last message repeated 33 times\n",
            "\u001b[0;33mPast duration 1.999992 too large\n",
            "    Last message repeated 35 times\n",
            "\u001b[0;33mPast duration 1.999992 too large\n",
            "    Last message repeated 32 times\n",
            "\u001b[0;33mPast duration 1.999992 too large\n",
            "    Last message repeated 35 times\n",
            "\u001b[0;33mPast duration 1.999992 too large\n",
            "    Last message repeated 37 times\n",
            "\u001b[0;33mPast duration 1.999992 too large\n",
            "    Last message repeated 11 times\n",
            "frame=  483 fps= 69 q=-1.0 Lsize=     204kB time=00:00:05.98 bitrate= 279.4kbits/s dup=2 drop=0 speed=0.86x    \n",
            "video:198kB audio:0kB subtitle:0kB other streams:0kB global headers:0kB muxing overhead: 3.283306%\n",
            "\u001b[1;36m[libx264 @ 0x563e4fe39e00] \u001b[0mframe I:2     Avg QP:19.42  size:  5226\n",
            "\u001b[1;36m[libx264 @ 0x563e4fe39e00] \u001b[0mframe P:121   Avg QP:21.92  size:   739\n",
            "\u001b[1;36m[libx264 @ 0x563e4fe39e00] \u001b[0mframe B:360   Avg QP:25.81  size:   283\n",
            "\u001b[1;36m[libx264 @ 0x563e4fe39e00] \u001b[0mconsecutive B-frames:  0.6%  0.0%  0.0% 99.4%\n",
            "\u001b[1;36m[libx264 @ 0x563e4fe39e00] \u001b[0mmb I  I16..4: 51.7% 44.2%  4.1%\n",
            "\u001b[1;36m[libx264 @ 0x563e4fe39e00] \u001b[0mmb P  I16..4:  0.1%  0.3%  0.1%  P16..4:  3.9%  0.7%  0.2%  0.0%  0.0%    skip:94.7%\n",
            "\u001b[1;36m[libx264 @ 0x563e4fe39e00] \u001b[0mmb B  I16..4:  0.1%  0.1%  0.0%  B16..8:  2.7%  0.5%  0.0%  direct: 0.1%  skip:96.5%  L0:55.0% L1:42.2% BI: 2.8%\n",
            "\u001b[1;36m[libx264 @ 0x563e4fe39e00] \u001b[0m8x8 transform intra:48.2% inter:14.7%\n",
            "\u001b[1;36m[libx264 @ 0x563e4fe39e00] \u001b[0mcoded y,uvDC,uvAC intra: 6.3% 9.2% 8.9% inter: 0.2% 0.4% 0.4%\n",
            "\u001b[1;36m[libx264 @ 0x563e4fe39e00] \u001b[0mi16 v,h,dc,p: 66% 29%  5%  0%\n",
            "\u001b[1;36m[libx264 @ 0x563e4fe39e00] \u001b[0mi8 v,h,dc,ddl,ddr,vr,hd,vl,hu: 37% 11% 50%  2%  0%  0%  0%  0%  0%\n",
            "\u001b[1;36m[libx264 @ 0x563e4fe39e00] \u001b[0mi4 v,h,dc,ddl,ddr,vr,hd,vl,hu: 17% 27% 40%  2%  3%  2%  3%  2%  3%\n",
            "\u001b[1;36m[libx264 @ 0x563e4fe39e00] \u001b[0mi8c dc,h,v,p: 79% 15%  6%  0%\n",
            "\u001b[1;36m[libx264 @ 0x563e4fe39e00] \u001b[0mWeighted P-Frames: Y:0.0% UV:0.0%\n",
            "\u001b[1;36m[libx264 @ 0x563e4fe39e00] \u001b[0mref P L0: 73.1%  1.2% 10.1% 15.5%\n",
            "\u001b[1;36m[libx264 @ 0x563e4fe39e00] \u001b[0mref B L0: 62.1% 33.2%  4.8%\n",
            "\u001b[1;36m[libx264 @ 0x563e4fe39e00] \u001b[0mref B L1: 86.1% 13.9%\n",
            "\u001b[1;36m[libx264 @ 0x563e4fe39e00] \u001b[0mkb/s:267.89\n"
          ]
        }
      ]
    },
    {
      "cell_type": "code",
      "source": [
        "from google.colab import files\n",
        "files.download('./complex_fourier.mp4')\n"
      ],
      "metadata": {
        "outputId": "b882e6d0-fcbf-4b8f-a353-7a4e7e53fae1",
        "colab": {
          "base_uri": "https://localhost:8080/",
          "height": 17
        },
        "id": "uwuIR7ZCqoFH"
      },
      "execution_count": null,
      "outputs": [
        {
          "output_type": "display_data",
          "data": {
            "text/plain": [
              "<IPython.core.display.Javascript object>"
            ],
            "application/javascript": [
              "\n",
              "    async function download(id, filename, size) {\n",
              "      if (!google.colab.kernel.accessAllowed) {\n",
              "        return;\n",
              "      }\n",
              "      const div = document.createElement('div');\n",
              "      const label = document.createElement('label');\n",
              "      label.textContent = `Downloading \"${filename}\": `;\n",
              "      div.appendChild(label);\n",
              "      const progress = document.createElement('progress');\n",
              "      progress.max = size;\n",
              "      div.appendChild(progress);\n",
              "      document.body.appendChild(div);\n",
              "\n",
              "      const buffers = [];\n",
              "      let downloaded = 0;\n",
              "\n",
              "      const channel = await google.colab.kernel.comms.open(id);\n",
              "      // Send a message to notify the kernel that we're ready.\n",
              "      channel.send({})\n",
              "\n",
              "      for await (const message of channel.messages) {\n",
              "        // Send a message to notify the kernel that we're ready.\n",
              "        channel.send({})\n",
              "        if (message.buffers) {\n",
              "          for (const buffer of message.buffers) {\n",
              "            buffers.push(buffer);\n",
              "            downloaded += buffer.byteLength;\n",
              "            progress.value = downloaded;\n",
              "          }\n",
              "        }\n",
              "      }\n",
              "      const blob = new Blob(buffers, {type: 'application/binary'});\n",
              "      const a = document.createElement('a');\n",
              "      a.href = window.URL.createObjectURL(blob);\n",
              "      a.download = filename;\n",
              "      div.appendChild(a);\n",
              "      a.click();\n",
              "      div.remove();\n",
              "    }\n",
              "  "
            ]
          },
          "metadata": {}
        },
        {
          "output_type": "display_data",
          "data": {
            "text/plain": [
              "<IPython.core.display.Javascript object>"
            ],
            "application/javascript": [
              "download(\"download_0acf1156-83eb-4481-8390-e49664cf56a8\", \"complex_fourier.mp4\", 209001)"
            ]
          },
          "metadata": {}
        }
      ]
    },
    {
      "cell_type": "code",
      "source": [
        "# borra los archivos luego de descargarlos\n",
        "!rm complex_fourier.mp4"
      ],
      "metadata": {
        "colab": {
          "base_uri": "https://localhost:8080/"
        },
        "id": "lZWPadQlqoFH",
        "outputId": "fc55c4d2-dd24-41d1-c0b9-e7dccbd7a3b4"
      },
      "execution_count": 1,
      "outputs": [
        {
          "output_type": "stream",
          "name": "stdout",
          "text": [
            "rm: cannot remove 'complex_fourier.mp4': No such file or directory\n"
          ]
        }
      ]
    },
    {
      "cell_type": "code",
      "source": [
        "# borra la carpeta de plots\n",
        "!rm -r plots"
      ],
      "metadata": {
        "id": "IQl1aF12qoFI"
      },
      "execution_count": 6,
      "outputs": []
    },
    {
      "cell_type": "code",
      "source": [],
      "metadata": {
        "id": "qi6piWEgrKJV"
      },
      "execution_count": null,
      "outputs": []
    }
  ],
  "metadata": {
    "kernelspec": {
      "display_name": "Python 3.9.13 ('base')",
      "language": "python",
      "name": "python3"
    },
    "language_info": {
      "codemirror_mode": {
        "name": "ipython",
        "version": 3
      },
      "file_extension": ".py",
      "mimetype": "text/x-python",
      "name": "python",
      "nbconvert_exporter": "python",
      "pygments_lexer": "ipython3",
      "version": "3.9.13"
    },
    "orig_nbformat": 4,
    "vscode": {
      "interpreter": {
        "hash": "ad2bdc8ecc057115af97d19610ffacc2b4e99fae6737bb82f5d7fb13d2f2c186"
      }
    },
    "colab": {
      "provenance": []
    }
  },
  "nbformat": 4,
  "nbformat_minor": 0
}