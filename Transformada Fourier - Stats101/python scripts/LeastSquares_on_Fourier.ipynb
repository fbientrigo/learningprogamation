{
  "nbformat": 4,
  "nbformat_minor": 0,
  "metadata": {
    "colab": {
      "provenance": []
    },
    "kernelspec": {
      "name": "python3",
      "display_name": "Python 3"
    },
    "language_info": {
      "name": "python"
    }
  },
  "cells": [
    {
      "cell_type": "code",
      "execution_count": 326,
      "metadata": {
        "id": "QUcWaTcCcfya"
      },
      "outputs": [],
      "source": [
        "import numpy as np\n",
        "\n",
        "# Define the number of samples and the sampling interval\n",
        "N = 5\n",
        "T = 1.0 / N\n",
        "\n",
        "# Compute the discrete time samples of the function\n",
        "x = np.linspace(0, N*T, N)\n",
        "y = np.sin(x)\n",
        "\n",
        "# Compute the FFT of the function\n",
        "# la inversa contiene la division por N, pero aqui quiero utilizarla directamente\n",
        "yf = np.fft.fft(y) / np.sqrt(N)\n",
        "# de esta forma sera equivalente a las respuestas mediante matrix W\n",
        "\n",
        "# matrix de fourier compleja\n",
        "W = np.zeros((N, N), dtype=np.complex_)\n",
        "for k in range(N):\n",
        "    for n in range(N):        \n",
        "        W[n,k] = 1.0/np.sqrt(N) * np.exp(1.0j * 2*np.pi * n * k /N)\n",
        "\n",
        "# matrix de fourier compleja\n",
        "W_inv = np.zeros((N, N), dtype=np.complex_)\n",
        "for k in range(N):\n",
        "    for n in range(1,N):        \n",
        "        W_inv[n,k] = 1.0/np.sqrt(N) * np.exp(-1.0j * 2*np.pi * n * k /N)\n",
        "\n",
        "# matriz para las ecuaciones de minimum squares\n",
        "U = np.zeros((N, 3))\n",
        "for n in range(N):    \n",
        "    U[n, 0] = 1\n",
        "    U[n, 1] = np.cos(-2 * np.pi * k * n / N)\n",
        "    U[n, 2] = np.sin(-2 * np.pi * k * n / N)\n"
      ]
    },
    {
      "cell_type": "code",
      "source": [
        "U"
      ],
      "metadata": {
        "colab": {
          "base_uri": "https://localhost:8080/"
        },
        "id": "QUUiVMJqLY5u",
        "outputId": "f3f44473-a148-48a1-d370-ed6a74475baa"
      },
      "execution_count": 324,
      "outputs": [
        {
          "output_type": "execute_result",
          "data": {
            "text/plain": [
              "array([[ 1.        ,  1.        ,  1.        ,  1.        ,  1.        ,\n",
              "         1.        ,  1.        ,  1.        ,  1.        ,  1.        ,\n",
              "         1.        ,  1.        ],\n",
              "       [ 1.        , -0.        ,  0.30901699, -0.95105652, -0.80901699,\n",
              "        -0.58778525, -0.80901699,  0.58778525,  0.30901699,  0.95105652,\n",
              "         0.        ,  0.        ],\n",
              "       [ 1.        , -0.        , -0.80901699, -0.58778525,  0.30901699,\n",
              "         0.95105652,  0.30901699, -0.95105652, -0.80901699,  0.58778525,\n",
              "         0.        ,  0.        ],\n",
              "       [ 1.        , -0.        , -0.80901699,  0.58778525,  0.30901699,\n",
              "        -0.95105652,  0.30901699,  0.95105652, -0.80901699, -0.58778525,\n",
              "         0.        ,  0.        ],\n",
              "       [ 1.        , -0.        ,  0.30901699,  0.95105652, -0.80901699,\n",
              "         0.58778525, -0.80901699, -0.58778525,  0.30901699, -0.95105652,\n",
              "         0.        ,  0.        ]])"
            ]
          },
          "metadata": {},
          "execution_count": 324
        }
      ]
    },
    {
      "cell_type": "code",
      "source": [
        "# mientras que la inversa con\n",
        "ck = W_inv @ y\n",
        "ck"
      ],
      "metadata": {
        "colab": {
          "base_uri": "https://localhost:8080/"
        },
        "id": "EJMyUC4h10SI",
        "outputId": "a8c6ad7f-3b0c-44a9-8e8e-29f978261d50"
      },
      "execution_count": 321,
      "outputs": [
        {
          "output_type": "execute_result",
          "data": {
            "text/plain": [
              "array([ 0.        +0.j        , -0.26959819+0.30582669j,\n",
              "       -0.23350352+0.07015334j, -0.23350352-0.07015334j,\n",
              "       -0.26959819-0.30582669j])"
            ]
          },
          "metadata": {},
          "execution_count": 321
        }
      ]
    },
    {
      "cell_type": "code",
      "source": [
        "# esot es quivalente\n",
        "np.all((W @ yf) == np.dot(W, yf))"
      ],
      "metadata": {
        "colab": {
          "base_uri": "https://localhost:8080/"
        },
        "id": "kkoBSiorjxKu",
        "outputId": "6498a57e-d152-4639-f3f6-35a7fd6efa5d"
      },
      "execution_count": 302,
      "outputs": [
        {
          "output_type": "execute_result",
          "data": {
            "text/plain": [
              "True"
            ]
          },
          "metadata": {},
          "execution_count": 302
        }
      ]
    },
    {
      "cell_type": "code",
      "source": [
        "UT = np.matrix.transpose(U)\n",
        "\n",
        "# se resuelve mediante Minimos cuadrados\n",
        "estimate_fourier_viaLS = ( np.linalg.inv(UT @ U) @ UT) @ y\n",
        "\n",
        "estf = estimate_fourier_viaLS[:, np.newaxis]\n",
        "# estf.shape\n",
        "\n",
        "# reconstruye con minimos, cuadrados\n",
        "y_rec_ls = U @ estf"
      ],
      "metadata": {
        "id": "Ujk4b9XEnNgn"
      },
      "execution_count": 327,
      "outputs": []
    },
    {
      "cell_type": "code",
      "source": [
        "# la transformada de Fourier DFT\n",
        "ck = W_inv @ y\n",
        "y_rec_fft =  W @ ck\n",
        "\n",
        "# o la FFT de numpy\n",
        "ck = np.fft.fft(y)\n",
        "y_rec_numpy = np.fft.ifft(ck)"
      ],
      "metadata": {
        "id": "_yLobAhYol08"
      },
      "execution_count": 304,
      "outputs": []
    },
    {
      "cell_type": "code",
      "source": [
        "fig,ax = plt.subplots(figsize=(16,9))\n",
        "plt.plot(x,y, label='original')\n",
        "plt.plot(x, y_rec_fft.real,'r--', label='fft W')\n",
        "plt.plot(x, y_rec_numpy.real,'g--', label='fft numpy')\n",
        "plt.plot(x, y_rec_ls, label='ls')\n",
        "plt.legend()\n",
        "plt.title(f'Minimos Cuadrados con n={N}')\n",
        "plt.show()\n",
        "plt.ioff()"
      ],
      "metadata": {
        "colab": {
          "base_uri": "https://localhost:8080/",
          "height": 553
        },
        "id": "Hm6Unjl5pvbL",
        "outputId": "36306af7-0ad2-4225-e616-9049fe5cc733"
      },
      "execution_count": 306,
      "outputs": [
        {
          "output_type": "display_data",
          "data": {
            "text/plain": [
              "<Figure size 1152x648 with 1 Axes>"
            ],
            "image/png": "[encoded data removed]"
          },
          "metadata": {
            "needs_background": "light"
          }
        }
      ]
    },
    {
      "cell_type": "code",
      "source": [
        "# comparar coeficientes \n",
        "fyerr= np.max(np.abs(estf - yf))\n",
        "print('diferencia entre FFT y LeastSqaures',fyerr)"
      ],
      "metadata": {
        "colab": {
          "base_uri": "https://localhost:8080/"
        },
        "id": "sSR3Ez7YoRJl",
        "outputId": "aa047c40-5e20-44f8-bd39-fd013f73337d"
      },
      "execution_count": 104,
      "outputs": [
        {
          "output_type": "stream",
          "name": "stdout",
          "text": [
            "diferencia entre FFT y LeastSqaures 22.010582010582006\n"
          ]
        }
      ]
    },
    {
      "cell_type": "markdown",
      "source": [
        "## codigo de prueba"
      ],
      "metadata": {
        "id": "4NwhvDU4mQvz"
      }
    },
    {
      "cell_type": "code",
      "source": [
        "\n",
        "import numpy\n",
        "\n",
        "# points in time series\n",
        "n= 101\n",
        "# final time (initial time is 0)\n",
        "tfin= 10\n",
        "\n",
        "# *end of changeable parameters*\n",
        "\n",
        "# stepsize\n",
        "dt= tfin/(n-1)\n",
        "# sample count\n",
        "s= numpy.arange(n)\n",
        "# signal; somewhat arbitrary\n",
        "y= numpy.sinc(dt*s)\n",
        "# DFT\n",
        "fy= numpy.fft.fft(y)\n",
        "# frequency spectrum in rad/sample\n",
        "wps= numpy.linspace(0,2*numpy.pi,n+1)[:-1]\n",
        "\n",
        "# basis for DFT\n",
        "# see, e.g., http://en.wikipedia.org/wiki/Discrete_Fourier_transform#equation_Eq.2\n",
        "# and section \"Properties -> Orthogonality\"; the columns of 'basis' are the u_k vectors\n",
        "# described there\n",
        "basis= 1.0/n*numpy.exp(1.0j * wps * s[:,numpy.newaxis])\n",
        "\n",
        "# reconstruct signal from DFT coeffs and basis\n",
        "recon_y= numpy.dot(basis,fy)\n",
        "\n",
        "# expect yerr to be \"small\"\n",
        "yerr= numpy.max(numpy.abs(y-recon_y))\n",
        "print('yerr:',yerr)\n",
        "\n",
        "# find coefficients by fitting to basis\n",
        "lin_fy= numpy.linalg.solve(basis,y)\n",
        "\n",
        "# fyerr should also be \"small\"\n",
        "fyerr= numpy.max(numpy.abs(fy-lin_fy))\n",
        "print('fyerr',fyerr)"
      ],
      "metadata": {
        "colab": {
          "base_uri": "https://localhost:8080/"
        },
        "id": "EXj9jcY2mSQq",
        "outputId": "39ce06f9-6e37-430e-af22-950d185166ee"
      },
      "execution_count": 79,
      "outputs": [
        {
          "output_type": "stream",
          "name": "stdout",
          "text": [
            "yerr: 2.2350995108561108e-14\n",
            "fyerr 1.8807846518472468e-13\n"
          ]
        }
      ]
    },
    {
      "cell_type": "code",
      "source": [
        "numpy.linspace(0,2*numpy.pi,n+1)[:-1]"
      ],
      "metadata": {
        "colab": {
          "base_uri": "https://localhost:8080/"
        },
        "id": "jIpU29VWmdNd",
        "outputId": "5bf3c2f7-09f4-47bb-c148-2186d83116e9"
      },
      "execution_count": 83,
      "outputs": [
        {
          "output_type": "execute_result",
          "data": {
            "text/plain": [
              "array([0.        , 0.06220976, 0.12441951, 0.18662927, 0.24883902,\n",
              "       0.31104878, 0.37325853, 0.43546829, 0.49767804, 0.5598878 ,\n",
              "       0.62209756, 0.68430731, 0.74651707, 0.80872682, 0.87093658,\n",
              "       0.93314633, 0.99535609, 1.05756584, 1.1197756 , 1.18198535,\n",
              "       1.24419511, 1.30640487, 1.36861462, 1.43082438, 1.49303413,\n",
              "       1.55524389, 1.61745364, 1.6796634 , 1.74187315, 1.80408291,\n",
              "       1.86629267, 1.92850242, 1.99071218, 2.05292193, 2.11513169,\n",
              "       2.17734144, 2.2395512 , 2.30176095, 2.36397071, 2.42618047,\n",
              "       2.48839022, 2.55059998, 2.61280973, 2.67501949, 2.73722924,\n",
              "       2.799439  , 2.86164875, 2.92385851, 2.98606826, 3.04827802,\n",
              "       3.11048778, 3.17269753, 3.23490729, 3.29711704, 3.3593268 ,\n",
              "       3.42153655, 3.48374631, 3.54595606, 3.60816582, 3.67037558,\n",
              "       3.73258533, 3.79479509, 3.85700484, 3.9192146 , 3.98142435,\n",
              "       4.04363411, 4.10584386, 4.16805362, 4.23026338, 4.29247313,\n",
              "       4.35468289, 4.41689264, 4.4791024 , 4.54131215, 4.60352191,\n",
              "       4.66573166, 4.72794142, 4.79015117, 4.85236093, 4.91457069,\n",
              "       4.97678044, 5.0389902 , 5.10119995, 5.16340971, 5.22561946,\n",
              "       5.28782922, 5.35003897, 5.41224873, 5.47445849, 5.53666824,\n",
              "       5.598878  , 5.66108775, 5.72329751, 5.78550726, 5.84771702,\n",
              "       5.90992677, 5.97213653, 6.03434629, 6.09655604, 6.1587658 ,\n",
              "       6.22097555])"
            ]
          },
          "metadata": {},
          "execution_count": 83
        }
      ]
    },
    {
      "cell_type": "code",
      "source": [],
      "metadata": {
        "id": "JgVToIBTmrsz"
      },
      "execution_count": null,
      "outputs": []
    }
  ]
}