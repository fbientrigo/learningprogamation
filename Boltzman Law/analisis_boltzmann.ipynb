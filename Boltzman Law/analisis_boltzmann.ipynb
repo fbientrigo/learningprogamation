{
 "cells": [
  {
   "attachments": {},
   "cell_type": "markdown",
   "metadata": {},
   "source": [
    "# Prueba\n",
    "Es una libreria que construye encima de Matplotlib, la cual permite mejores estilos y se adapta correctamente a las librerias de Pandas"
   ]
  },
  {
   "cell_type": "code",
   "execution_count": 32,
   "metadata": {},
   "outputs": [],
   "source": [
    "import seaborn as sns\n",
    "import matplotlib.pyplot as plt\n",
    "import numpy as np\n",
    "import pandas as pd"
   ]
  },
  {
   "cell_type": "code",
   "execution_count": 63,
   "metadata": {},
   "outputs": [
    {
     "data": {
      "text/plain": [
       "297.15"
      ]
     },
     "execution_count": 63,
     "metadata": {},
     "output_type": "execute_result"
    }
   ],
   "source": [
    "T0 = 24 # celcius\n",
    "\n",
    "# convetirlo a kelvin\n",
    "T0 = T0 + 273.15\n",
    "\n",
    "R0 = 1.4 # +- 1 Omhs\n",
    "T0"
   ]
  },
  {
   "cell_type": "code",
   "execution_count": 21,
   "metadata": {},
   "outputs": [
    {
     "data": {
      "text/plain": [
       "0.005"
      ]
     },
     "execution_count": 21,
     "metadata": {},
     "output_type": "execute_result"
    }
   ],
   "source": [
    "aop = (5-1)/(1100 - 300)\n",
    "aop\n",
    "\n",
    "# para el material tungsteno\n",
    "a0 = 14/2800\n",
    "a0\n",
    "\n",
    "# dan iguales"
   ]
  },
  {
   "cell_type": "code",
   "execution_count": null,
   "metadata": {},
   "outputs": [],
   "source": []
  },
  {
   "cell_type": "code",
   "execution_count": 25,
   "metadata": {},
   "outputs": [],
   "source": [
    "volts = [2.0 + 0.5 * i for i in range(13)] #v\n",
    "amperes = [4.0, 4.5, 4.9, 5.3, 5.7, 5.8, 6.3, 6.6, 6.9, 7.1, 7.4, 7.7, 8.0] #amperes\n",
    "radiacion = [.6, .8, 1.2, 1.7, 2.5, 3.2, 3.9, 5.9, 7.0, 7.8, 9.4, 11.0, 12.5] #mv"
   ]
  },
  {
   "cell_type": "code",
   "execution_count": 27,
   "metadata": {},
   "outputs": [
    {
     "data": {
      "text/html": [
       "<div>\n",
       "<style scoped>\n",
       "    .dataframe tbody tr th:only-of-type {\n",
       "        vertical-align: middle;\n",
       "    }\n",
       "\n",
       "    .dataframe tbody tr th {\n",
       "        vertical-align: top;\n",
       "    }\n",
       "\n",
       "    .dataframe thead th {\n",
       "        text-align: right;\n",
       "    }\n",
       "</style>\n",
       "<table border=\"1\" class=\"dataframe\">\n",
       "  <thead>\n",
       "    <tr style=\"text-align: right;\">\n",
       "      <th></th>\n",
       "      <th>volts</th>\n",
       "      <th>amperes</th>\n",
       "      <th>radiacion</th>\n",
       "    </tr>\n",
       "  </thead>\n",
       "  <tbody>\n",
       "    <tr>\n",
       "      <th>0</th>\n",
       "      <td>2.0</td>\n",
       "      <td>0.40</td>\n",
       "      <td>0.6</td>\n",
       "    </tr>\n",
       "    <tr>\n",
       "      <th>1</th>\n",
       "      <td>2.5</td>\n",
       "      <td>0.45</td>\n",
       "      <td>0.8</td>\n",
       "    </tr>\n",
       "    <tr>\n",
       "      <th>2</th>\n",
       "      <td>3.0</td>\n",
       "      <td>0.49</td>\n",
       "      <td>1.2</td>\n",
       "    </tr>\n",
       "    <tr>\n",
       "      <th>3</th>\n",
       "      <td>3.5</td>\n",
       "      <td>0.53</td>\n",
       "      <td>1.7</td>\n",
       "    </tr>\n",
       "    <tr>\n",
       "      <th>4</th>\n",
       "      <td>4.0</td>\n",
       "      <td>0.57</td>\n",
       "      <td>2.5</td>\n",
       "    </tr>\n",
       "    <tr>\n",
       "      <th>5</th>\n",
       "      <td>4.5</td>\n",
       "      <td>0.58</td>\n",
       "      <td>3.2</td>\n",
       "    </tr>\n",
       "    <tr>\n",
       "      <th>6</th>\n",
       "      <td>5.0</td>\n",
       "      <td>0.63</td>\n",
       "      <td>3.9</td>\n",
       "    </tr>\n",
       "    <tr>\n",
       "      <th>7</th>\n",
       "      <td>5.5</td>\n",
       "      <td>0.66</td>\n",
       "      <td>5.9</td>\n",
       "    </tr>\n",
       "    <tr>\n",
       "      <th>8</th>\n",
       "      <td>6.0</td>\n",
       "      <td>0.69</td>\n",
       "      <td>7.0</td>\n",
       "    </tr>\n",
       "    <tr>\n",
       "      <th>9</th>\n",
       "      <td>6.5</td>\n",
       "      <td>0.71</td>\n",
       "      <td>7.8</td>\n",
       "    </tr>\n",
       "    <tr>\n",
       "      <th>10</th>\n",
       "      <td>7.0</td>\n",
       "      <td>0.74</td>\n",
       "      <td>9.4</td>\n",
       "    </tr>\n",
       "    <tr>\n",
       "      <th>11</th>\n",
       "      <td>7.5</td>\n",
       "      <td>0.77</td>\n",
       "      <td>11.0</td>\n",
       "    </tr>\n",
       "    <tr>\n",
       "      <th>12</th>\n",
       "      <td>8.0</td>\n",
       "      <td>0.80</td>\n",
       "      <td>12.5</td>\n",
       "    </tr>\n",
       "  </tbody>\n",
       "</table>\n",
       "</div>"
      ],
      "text/plain": [
       "    volts  amperes  radiacion\n",
       "0     2.0     0.40        0.6\n",
       "1     2.5     0.45        0.8\n",
       "2     3.0     0.49        1.2\n",
       "3     3.5     0.53        1.7\n",
       "4     4.0     0.57        2.5\n",
       "5     4.5     0.58        3.2\n",
       "6     5.0     0.63        3.9\n",
       "7     5.5     0.66        5.9\n",
       "8     6.0     0.69        7.0\n",
       "9     6.5     0.71        7.8\n",
       "10    7.0     0.74        9.4\n",
       "11    7.5     0.77       11.0\n",
       "12    8.0     0.80       12.5"
      ]
     },
     "execution_count": 27,
     "metadata": {},
     "output_type": "execute_result"
    }
   ],
   "source": [
    "# corregir el .0 del ampere que saque\n",
    "df = pd.DataFrame({'volts': volts, 'amperes': amperes, 'radiacion': radiacion})\n",
    "df['amperes'] = df['amperes']/10\n",
    "df"
   ]
  },
  {
   "cell_type": "code",
   "execution_count": 38,
   "metadata": {},
   "outputs": [
    {
     "data": {
      "text/html": [
       "<div>\n",
       "<style scoped>\n",
       "    .dataframe tbody tr th:only-of-type {\n",
       "        vertical-align: middle;\n",
       "    }\n",
       "\n",
       "    .dataframe tbody tr th {\n",
       "        vertical-align: top;\n",
       "    }\n",
       "\n",
       "    .dataframe thead th {\n",
       "        text-align: right;\n",
       "    }\n",
       "</style>\n",
       "<table border=\"1\" class=\"dataframe\">\n",
       "  <thead>\n",
       "    <tr style=\"text-align: right;\">\n",
       "      <th></th>\n",
       "      <th>volts</th>\n",
       "      <th>amperes</th>\n",
       "      <th>radiacion</th>\n",
       "      <th>R/R0</th>\n",
       "      <th>T</th>\n",
       "    </tr>\n",
       "  </thead>\n",
       "  <tbody>\n",
       "    <tr>\n",
       "      <th>0</th>\n",
       "      <td>2.0</td>\n",
       "      <td>0.40</td>\n",
       "      <td>0.6</td>\n",
       "      <td>3.571429</td>\n",
       "      <td>811.435714</td>\n",
       "    </tr>\n",
       "    <tr>\n",
       "      <th>1</th>\n",
       "      <td>2.5</td>\n",
       "      <td>0.45</td>\n",
       "      <td>0.8</td>\n",
       "      <td>3.968254</td>\n",
       "      <td>890.800794</td>\n",
       "    </tr>\n",
       "    <tr>\n",
       "      <th>2</th>\n",
       "      <td>3.0</td>\n",
       "      <td>0.49</td>\n",
       "      <td>1.2</td>\n",
       "      <td>4.373178</td>\n",
       "      <td>971.785569</td>\n",
       "    </tr>\n",
       "    <tr>\n",
       "      <th>3</th>\n",
       "      <td>3.5</td>\n",
       "      <td>0.53</td>\n",
       "      <td>1.7</td>\n",
       "      <td>4.716981</td>\n",
       "      <td>1040.546226</td>\n",
       "    </tr>\n",
       "    <tr>\n",
       "      <th>4</th>\n",
       "      <td>4.0</td>\n",
       "      <td>0.57</td>\n",
       "      <td>2.5</td>\n",
       "      <td>5.012531</td>\n",
       "      <td>1099.656266</td>\n",
       "    </tr>\n",
       "  </tbody>\n",
       "</table>\n",
       "</div>"
      ],
      "text/plain": [
       "   volts  amperes  radiacion      R/R0            T\n",
       "0    2.0     0.40        0.6  3.571429   811.435714\n",
       "1    2.5     0.45        0.8  3.968254   890.800794\n",
       "2    3.0     0.49        1.2  4.373178   971.785569\n",
       "3    3.5     0.53        1.7  4.716981  1040.546226\n",
       "4    4.0     0.57        2.5  5.012531  1099.656266"
      ]
     },
     "execution_count": 38,
     "metadata": {},
     "output_type": "execute_result"
    }
   ],
   "source": [
    "# V = IR\n",
    "# R = V/I\n",
    "df['R/R0'] = df.volts / (df.amperes * ResInit)\n",
    "df.head() #para ver los primeros datos"
   ]
  },
  {
   "cell_type": "code",
   "execution_count": 29,
   "metadata": {},
   "outputs": [],
   "source": [
    "df['T'] = T0 + ( df['R/R0'] - 1 )/a0"
   ]
  },
  {
   "cell_type": "code",
   "execution_count": 73,
   "metadata": {},
   "outputs": [],
   "source": [
    "df.to_csv('boltzman.csv')"
   ]
  },
  {
   "cell_type": "code",
   "execution_count": 37,
   "metadata": {},
   "outputs": [
    {
     "data": {
      "text/plain": [
       "Text(0, 0.5, 'Radiacion [mV]')"
      ]
     },
     "execution_count": 37,
     "metadata": {},
     "output_type": "execute_result"
    },
    {
     "data": {
      "image/png": "[encoded data removed]",
      "text/plain": [
       "<Figure size 640x480 with 1 Axes>"
      ]
     },
     "metadata": {},
     "output_type": "display_data"
    }
   ],
   "source": [
    "plt.plot(df['T'], df['radiacion'])\n",
    "plt.title('Datos como se observa Radiacion vs Temperatura')\n",
    "plt.xlabel('Temperatura [K]')\n",
    "plt.ylabel('Radiacion [mV]')"
   ]
  },
  {
   "cell_type": "code",
   "execution_count": 44,
   "metadata": {},
   "outputs": [
    {
     "data": {
      "text/html": [
       "<div>\n",
       "<style scoped>\n",
       "    .dataframe tbody tr th:only-of-type {\n",
       "        vertical-align: middle;\n",
       "    }\n",
       "\n",
       "    .dataframe tbody tr th {\n",
       "        vertical-align: top;\n",
       "    }\n",
       "\n",
       "    .dataframe thead th {\n",
       "        text-align: right;\n",
       "    }\n",
       "</style>\n",
       "<table border=\"1\" class=\"dataframe\">\n",
       "  <thead>\n",
       "    <tr style=\"text-align: right;\">\n",
       "      <th></th>\n",
       "      <th>volts</th>\n",
       "      <th>amperes</th>\n",
       "      <th>radiacion</th>\n",
       "      <th>R/R0</th>\n",
       "      <th>T</th>\n",
       "      <th>T4</th>\n",
       "    </tr>\n",
       "  </thead>\n",
       "  <tbody>\n",
       "    <tr>\n",
       "      <th>0</th>\n",
       "      <td>2.0</td>\n",
       "      <td>0.40</td>\n",
       "      <td>0.6</td>\n",
       "      <td>3.571429</td>\n",
       "      <td>811.435714</td>\n",
       "      <td>4.335273e+11</td>\n",
       "    </tr>\n",
       "    <tr>\n",
       "      <th>1</th>\n",
       "      <td>2.5</td>\n",
       "      <td>0.45</td>\n",
       "      <td>0.8</td>\n",
       "      <td>3.968254</td>\n",
       "      <td>890.800794</td>\n",
       "      <td>6.296836e+11</td>\n",
       "    </tr>\n",
       "    <tr>\n",
       "      <th>2</th>\n",
       "      <td>3.0</td>\n",
       "      <td>0.49</td>\n",
       "      <td>1.2</td>\n",
       "      <td>4.373178</td>\n",
       "      <td>971.785569</td>\n",
       "      <td>8.918294e+11</td>\n",
       "    </tr>\n",
       "    <tr>\n",
       "      <th>3</th>\n",
       "      <td>3.5</td>\n",
       "      <td>0.53</td>\n",
       "      <td>1.7</td>\n",
       "      <td>4.716981</td>\n",
       "      <td>1040.546226</td>\n",
       "      <td>1.172318e+12</td>\n",
       "    </tr>\n",
       "    <tr>\n",
       "      <th>4</th>\n",
       "      <td>4.0</td>\n",
       "      <td>0.57</td>\n",
       "      <td>2.5</td>\n",
       "      <td>5.012531</td>\n",
       "      <td>1099.656266</td>\n",
       "      <td>1.462271e+12</td>\n",
       "    </tr>\n",
       "  </tbody>\n",
       "</table>\n",
       "</div>"
      ],
      "text/plain": [
       "   volts  amperes  radiacion      R/R0            T            T4\n",
       "0    2.0     0.40        0.6  3.571429   811.435714  4.335273e+11\n",
       "1    2.5     0.45        0.8  3.968254   890.800794  6.296836e+11\n",
       "2    3.0     0.49        1.2  4.373178   971.785569  8.918294e+11\n",
       "3    3.5     0.53        1.7  4.716981  1040.546226  1.172318e+12\n",
       "4    4.0     0.57        2.5  5.012531  1099.656266  1.462271e+12"
      ]
     },
     "execution_count": 44,
     "metadata": {},
     "output_type": "execute_result"
    }
   ],
   "source": [
    "# entonces para ver con que poder aumenta, se calcula el poder 4\n",
    "df['T4'] = df['T']**4\n",
    "df.head()"
   ]
  },
  {
   "cell_type": "code",
   "execution_count": 47,
   "metadata": {},
   "outputs": [
    {
     "data": {
      "image/png": "[encoded data removed]",
      "text/plain": [
       "<Figure size 640x480 with 1 Axes>"
      ]
     },
     "metadata": {},
     "output_type": "display_data"
    }
   ],
   "source": [
    "plt.plot(df['T4'], df['radiacion'])\n",
    "plt.title('Datos como se observa Radiacion vs Temperatura')\n",
    "plt.xlabel(r'$T^4 [K^4]$')\n",
    "plt.ylabel('Radiacion [mV]')\n",
    "plt.show()"
   ]
  },
  {
   "attachments": {},
   "cell_type": "markdown",
   "metadata": {},
   "source": [
    "Lo cual se ve como una linea.\n",
    "\n",
    "entonces el radio entre\n",
    "$$\n",
    "\\frac{P}{T^4} = \\sigma\n",
    "$$\n",
    "se identificaria asi como un modelo lineal si este valor no varia mucho y aparte estaria calculando la constante de boltzmannn"
   ]
  },
  {
   "cell_type": "code",
   "execution_count": 59,
   "metadata": {},
   "outputs": [
    {
     "data": {
      "text/html": [
       "<div>\n",
       "<style scoped>\n",
       "    .dataframe tbody tr th:only-of-type {\n",
       "        vertical-align: middle;\n",
       "    }\n",
       "\n",
       "    .dataframe tbody tr th {\n",
       "        vertical-align: top;\n",
       "    }\n",
       "\n",
       "    .dataframe thead th {\n",
       "        text-align: right;\n",
       "    }\n",
       "</style>\n",
       "<table border=\"1\" class=\"dataframe\">\n",
       "  <thead>\n",
       "    <tr style=\"text-align: right;\">\n",
       "      <th></th>\n",
       "      <th>volts</th>\n",
       "      <th>amperes</th>\n",
       "      <th>radiacion</th>\n",
       "      <th>R/R0</th>\n",
       "      <th>T</th>\n",
       "      <th>T4</th>\n",
       "      <th>boltz</th>\n",
       "    </tr>\n",
       "  </thead>\n",
       "  <tbody>\n",
       "    <tr>\n",
       "      <th>0</th>\n",
       "      <td>2.0</td>\n",
       "      <td>0.40</td>\n",
       "      <td>0.6</td>\n",
       "      <td>3.571429</td>\n",
       "      <td>811.435714</td>\n",
       "      <td>4.335273e+11</td>\n",
       "      <td>1.383996e-12</td>\n",
       "    </tr>\n",
       "    <tr>\n",
       "      <th>1</th>\n",
       "      <td>2.5</td>\n",
       "      <td>0.45</td>\n",
       "      <td>0.8</td>\n",
       "      <td>3.968254</td>\n",
       "      <td>890.800794</td>\n",
       "      <td>6.296836e+11</td>\n",
       "      <td>1.270479e-12</td>\n",
       "    </tr>\n",
       "    <tr>\n",
       "      <th>2</th>\n",
       "      <td>3.0</td>\n",
       "      <td>0.49</td>\n",
       "      <td>1.2</td>\n",
       "      <td>4.373178</td>\n",
       "      <td>971.785569</td>\n",
       "      <td>8.918294e+11</td>\n",
       "      <td>1.345549e-12</td>\n",
       "    </tr>\n",
       "    <tr>\n",
       "      <th>3</th>\n",
       "      <td>3.5</td>\n",
       "      <td>0.53</td>\n",
       "      <td>1.7</td>\n",
       "      <td>4.716981</td>\n",
       "      <td>1040.546226</td>\n",
       "      <td>1.172318e+12</td>\n",
       "      <td>1.450118e-12</td>\n",
       "    </tr>\n",
       "    <tr>\n",
       "      <th>4</th>\n",
       "      <td>4.0</td>\n",
       "      <td>0.57</td>\n",
       "      <td>2.5</td>\n",
       "      <td>5.012531</td>\n",
       "      <td>1099.656266</td>\n",
       "      <td>1.462271e+12</td>\n",
       "      <td>1.709670e-12</td>\n",
       "    </tr>\n",
       "  </tbody>\n",
       "</table>\n",
       "</div>"
      ],
      "text/plain": [
       "   volts  amperes  radiacion      R/R0            T            T4  \\\n",
       "0    2.0     0.40        0.6  3.571429   811.435714  4.335273e+11   \n",
       "1    2.5     0.45        0.8  3.968254   890.800794  6.296836e+11   \n",
       "2    3.0     0.49        1.2  4.373178   971.785569  8.918294e+11   \n",
       "3    3.5     0.53        1.7  4.716981  1040.546226  1.172318e+12   \n",
       "4    4.0     0.57        2.5  5.012531  1099.656266  1.462271e+12   \n",
       "\n",
       "          boltz  \n",
       "0  1.383996e-12  \n",
       "1  1.270479e-12  \n",
       "2  1.345549e-12  \n",
       "3  1.450118e-12  \n",
       "4  1.709670e-12  "
      ]
     },
     "execution_count": 59,
     "metadata": {},
     "output_type": "execute_result"
    }
   ],
   "source": [
    "\n",
    "df['boltz'] = df['radiacion'] / df['T4']\n",
    "df.head()"
   ]
  },
  {
   "cell_type": "code",
   "execution_count": 64,
   "metadata": {},
   "outputs": [],
   "source": [
    "# ya que mido en mV = 10^-3 -> [V / T^4]\n",
    "# y para pasar de Volts a W se multiplica por 22\n",
    "df['boltzConst'] = df['boltz'] * 22 * 10**3"
   ]
  },
  {
   "cell_type": "code",
   "execution_count": 72,
   "metadata": {},
   "outputs": [
    {
     "data": {
      "image/png": "[encoded data removed]",
      "text/plain": [
       "<Figure size 640x480 with 1 Axes>"
      ]
     },
     "metadata": {},
     "output_type": "display_data"
    }
   ],
   "source": [
    "plt.boxplot(df.boltzConst)\n",
    "plt.ylabel(f'Constante de Boltzman promedio = {np.mean(df.boltzConst)}')\n",
    "plt.title(r'$\\sigma [mW/K^4]$')\n",
    "plt.show()"
   ]
  },
  {
   "cell_type": "code",
   "execution_count": 74,
   "metadata": {},
   "outputs": [],
   "source": [
    "df.to_csv('boltzman_analizado.csv')"
   ]
  },
  {
   "cell_type": "code",
   "execution_count": null,
   "metadata": {},
   "outputs": [],
   "source": []
  }
 ],
 "metadata": {
  "kernelspec": {
   "display_name": "base",
   "language": "python",
   "name": "python3"
  },
  "language_info": {
   "codemirror_mode": {
    "name": "ipython",
    "version": 3
   },
   "file_extension": ".py",
   "mimetype": "text/x-python",
   "name": "python",
   "nbconvert_exporter": "python",
   "pygments_lexer": "ipython3",
   "version": "3.9.13"
  },
  "orig_nbformat": 4,
  "vscode": {
   "interpreter": {
    "hash": "ad2bdc8ecc057115af97d19610ffacc2b4e99fae6737bb82f5d7fb13d2f2c186"
   }
  }
 },
 "nbformat": 4,
 "nbformat_minor": 2
}
