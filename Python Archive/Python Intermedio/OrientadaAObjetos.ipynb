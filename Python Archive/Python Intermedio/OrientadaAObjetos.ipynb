{
 "cells": [
  {
   "cell_type": "code",
   "execution_count": 1,
   "source": [
    "#Primero creamos una clase\r\n",
    "class Punto2D:\r\n",
    "    #toda clase requiere de la funcion que se ejecuta para crear el objeto\r\n",
    "    def __init__(self, x, y): #toda funcion lleva self, ya que su primer input es el objeto que se creara\r\n",
    "        #aqui self. es que nos referimos al objeto y a una propiedad interna de este\r\n",
    "        self.x = x\r\n",
    "        self.y = y #todo punto tendra .x e .y como propiedades"
   ],
   "outputs": [],
   "metadata": {}
  },
  {
   "cell_type": "code",
   "execution_count": 2,
   "source": [
    "miCasa = Punto2D(20, 40) #le doy los valores al __init__\r\n",
    "\r\n",
    "#puedo imprimir esos valores\r\n",
    "print(miCasa.x, miCasa.y)"
   ],
   "outputs": [
    {
     "output_type": "stream",
     "name": "stdout",
     "text": [
      "20 40\n"
     ]
    }
   ],
   "metadata": {}
  },
  {
   "cell_type": "code",
   "execution_count": 3,
   "source": [
    "#pero que pasa cuando imrpimo al objeto\r\n",
    "print(miCasa)"
   ],
   "outputs": [
    {
     "output_type": "stream",
     "name": "stdout",
     "text": [
      "<__main__.Punto2D object at 0x000002784C362A90>\n"
     ]
    }
   ],
   "metadata": {}
  },
  {
   "cell_type": "markdown",
   "source": [
    "Punto2D object quiere decir que es un objeot de la Clase Punto2D, lo que se observa despues de at 0x000... quiere decir el lugar de la memoria (en tu PC ahora mismo) en la que se encuentra.\r\n",
    "\r\n",
    "Pero seria mejor ver algo como `(x,y)` cuando imprimamos un punto 2d. Alli es donde entra usar `__repr__`\r\n"
   ],
   "metadata": {}
  },
  {
   "cell_type": "code",
   "execution_count": 7,
   "source": [
    "class Punto2D:\r\n",
    "    def __init__(self, x, y):\r\n",
    "        self.x = x\r\n",
    "        self.y = y \r\n",
    "    def __repr__(self): # esta funcion es para print(Objeto)\r\n",
    "        # le doy un string donde pongo los valores deseados\r\n",
    "        return f\"({self.x}, {self.y})\"\r\n",
    "\r\n",
    "miCasa = Punto2D(20, 40) #le doy los valores al __init__\r\n",
    "print(miCasa)\r\n"
   ],
   "outputs": [
    {
     "output_type": "stream",
     "name": "stdout",
     "text": [
      "(20, 40)\n"
     ]
    }
   ],
   "metadata": {}
  },
  {
   "cell_type": "code",
   "execution_count": null,
   "source": [],
   "outputs": [],
   "metadata": {}
  }
 ],
 "metadata": {
  "orig_nbformat": 4,
  "language_info": {
   "name": "python",
   "version": "3.8.5",
   "mimetype": "text/x-python",
   "codemirror_mode": {
    "name": "ipython",
    "version": 3
   },
   "pygments_lexer": "ipython3",
   "nbconvert_exporter": "python",
   "file_extension": ".py"
  },
  "kernelspec": {
   "name": "python3",
   "display_name": "Python 3.8.5 64-bit ('base': conda)"
  },
  "interpreter": {
   "hash": "b3ba2566441a7c06988d0923437866b63cedc61552a5af99d1f4fb67d367b25f"
  }
 },
 "nbformat": 4,
 "nbformat_minor": 2
}