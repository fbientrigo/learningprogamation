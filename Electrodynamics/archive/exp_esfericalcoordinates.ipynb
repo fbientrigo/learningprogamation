{
 "cells": [
  {
   "cell_type": "code",
   "execution_count": null,
   "metadata": {},
   "outputs": [],
   "source": [
    "from numpy import cos, sin\n",
    "\n",
    "\n",
    "fig = plt.figure()\n",
    "ax = fig.add_subplot(projection='3d')\n",
    "\n",
    "# Create the mesh in polar coordinates and compute corresponding Z.\n",
    "N = 50\n",
    "r = np.linspace(0, 10, N)\n",
    "theta = np.linspace(0, np.pi, N)\n",
    "phi = np.linspace(0, 2*np.pi, N)\n",
    "# ----\n",
    "R, Theta, Phi = np.meshgrid(r, theta, phi)\n",
    "# _________\n",
    "X = R * cos(Phi) * sin(Theta)\n",
    "Y = R * sin(Phi) * sin(Theta)\n",
    "Z = R * cos(Theta)\n",
    "\n",
    "# Plot the surface.\n",
    "ax.quiver(X, Y, Z,1,1,1, cmap=plt.cm.YlGnBu_r)\n",
    "\n",
    "# Tweak the limits and add latex math labels.\n",
    "ax.set_zlim(0, 1)\n",
    "ax.set_xlabel(r'$\\phi_\\mathrm{real}$')\n",
    "ax.set_ylabel(r'$\\phi_\\mathrm{im}$')\n",
    "ax.set_zlabel(r'$V(\\phi)$')\n",
    "\n",
    "plt.show()"
   ]
  }
 ],
 "metadata": {
  "language_info": {
   "name": "python"
  },
  "orig_nbformat": 4
 },
 "nbformat": 4,
 "nbformat_minor": 2
}
