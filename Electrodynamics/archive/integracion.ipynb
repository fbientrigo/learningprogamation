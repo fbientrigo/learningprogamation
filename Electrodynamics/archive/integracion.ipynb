{
 "cells": [
  {
   "cell_type": "code",
   "execution_count": null,
   "metadata": {},
   "outputs": [],
   "source": [
    "# vectores\n",
    "import numpy as np\n",
    "# integracion mediante quad\n",
    "import scipy as sp\n",
    "from scipy.integrate import quad\n",
    "\n",
    "import matplotlib.pyplot as plt\n",
    "import sympy as smp\n",
    "import plotly.graph_objects as go\n",
    "from IPython.display import HTML"
   ]
  },
  {
   "cell_type": "code",
   "execution_count": null,
   "metadata": {},
   "outputs": [],
   "source": [
    "# https://docs.scipy.org/doc/scipy-1.8.1/reference/generated/scipy.integrate.quad.html\n",
    "quad?"
   ]
  },
  {
   "cell_type": "markdown",
   "metadata": {},
   "source": [
    "### donde usaremos quad?\n",
    "Aseguro al lector que le encantará esta función:\n",
    "$$\n",
    "quad(f(x), a, b) \\Rightarrow [ \\int_a^b f(x)dx ,\\; \\pm \\epsilon  ]\n",
    "$$\n",
    "\n",
    "la función retorna el resultado a la integral, y donde $\\epsilon$ es el estimado del error absoluto\n",
    "$$\n",
    "\\epsilon = \\sqrt{ \\hat \\sigma^2 } = \\sqrt{ s_{n-1}^2 }\n",
    "$$\n",
    "donde $s^2_{n-1}$ es la varianza de la muestra, lo que tenemos es un intervalo de confianza para la integral.\n",
    "\n",
    "hipotesis:\n",
    "al ser una sumatoria se comporta como la media por el teorema del valor medio en integrales\n",
    "$$\n",
    "\\int_a^bf(x)dx =f(c)(b-a)\n",
    "$$\n",
    "por tanto el error se comporta normal\n",
    "\n",
    "revisesé las referencias \\cite{github} para explicaciones mas largas de esto \n",
    "\n",
    "El algoritmo se invoca:"
   ]
  },
  {
   "cell_type": "code",
   "execution_count": null,
   "metadata": {},
   "outputs": [],
   "source": [
    "quad()"
   ]
  }
 ],
 "metadata": {
  "kernelspec": {
   "display_name": "Python 3.9.13 ('base')",
   "language": "python",
   "name": "python3"
  },
  "language_info": {
   "name": "python",
   "version": "3.9.13"
  },
  "orig_nbformat": 4,
  "vscode": {
   "interpreter": {
    "hash": "ad2bdc8ecc057115af97d19610ffacc2b4e99fae6737bb82f5d7fb13d2f2c186"
   }
  }
 },
 "nbformat": 4,
 "nbformat_minor": 2
}
