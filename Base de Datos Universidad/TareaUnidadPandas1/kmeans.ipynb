{
 "cells": [
  {
   "cell_type": "code",
   "execution_count": 48,
   "metadata": {},
   "outputs": [],
   "source": [
    "class display(object):\n",
    "    \"\"\"\n",
    "    Produce el código HTML para visualizar múltiples objetos\n",
    "    \"\"\"\n",
    "    template = \"\"\"<div style=\"float: left; padding: 10px;\">\n",
    "    <p style='font-family:\"Courier New\", Courier, monospace'>{0}</p>{1}\n",
    "    </div>\"\"\"\n",
    "    def __init__(self, *args):\n",
    "        self.args = args\n",
    "        \n",
    "    def _repr_html_(self):\n",
    "        return '\\n'.join(self.template.format(a, eval(a)._repr_html_())\n",
    "                         for a in self.args)\n",
    "    \n",
    "    def __repr__(self):\n",
    "        return '\\n\\n'.join(a + '\\n' + repr(eval(a))\n",
    "                           for a in self.args)\n"
   ]
  },
  {
   "cell_type": "markdown",
   "metadata": {},
   "source": [
    "# K Means"
   ]
  },
  {
   "cell_type": "code",
   "execution_count": 1,
   "metadata": {},
   "outputs": [
    {
     "data": {
      "text/html": [
       "<div>\n",
       "<style scoped>\n",
       "    .dataframe tbody tr th:only-of-type {\n",
       "        vertical-align: middle;\n",
       "    }\n",
       "\n",
       "    .dataframe tbody tr th {\n",
       "        vertical-align: top;\n",
       "    }\n",
       "\n",
       "    .dataframe thead th {\n",
       "        text-align: right;\n",
       "    }\n",
       "</style>\n",
       "<table border=\"1\" class=\"dataframe\">\n",
       "  <thead>\n",
       "    <tr style=\"text-align: right;\">\n",
       "      <th></th>\n",
       "      <th>ID</th>\n",
       "      <th>x</th>\n",
       "      <th>y</th>\n",
       "      <th>cluster</th>\n",
       "    </tr>\n",
       "  </thead>\n",
       "  <tbody>\n",
       "    <tr>\n",
       "      <th>0</th>\n",
       "      <td>0</td>\n",
       "      <td>24.412</td>\n",
       "      <td>32.932</td>\n",
       "      <td>2</td>\n",
       "    </tr>\n",
       "    <tr>\n",
       "      <th>1</th>\n",
       "      <td>1</td>\n",
       "      <td>35.190</td>\n",
       "      <td>12.189</td>\n",
       "      <td>1</td>\n",
       "    </tr>\n",
       "    <tr>\n",
       "      <th>2</th>\n",
       "      <td>2</td>\n",
       "      <td>26.288</td>\n",
       "      <td>41.718</td>\n",
       "      <td>2</td>\n",
       "    </tr>\n",
       "    <tr>\n",
       "      <th>3</th>\n",
       "      <td>3</td>\n",
       "      <td>0.376</td>\n",
       "      <td>15.506</td>\n",
       "      <td>0</td>\n",
       "    </tr>\n",
       "    <tr>\n",
       "      <th>4</th>\n",
       "      <td>4</td>\n",
       "      <td>26.116</td>\n",
       "      <td>3.963</td>\n",
       "      <td>1</td>\n",
       "    </tr>\n",
       "  </tbody>\n",
       "</table>\n",
       "</div>"
      ],
      "text/plain": [
       "   ID       x       y  cluster\n",
       "0   0  24.412  32.932        2\n",
       "1   1  35.190  12.189        1\n",
       "2   2  26.288  41.718        2\n",
       "3   3   0.376  15.506        0\n",
       "4   4  26.116   3.963        1"
      ]
     },
     "execution_count": 1,
     "metadata": {},
     "output_type": "execute_result"
    }
   ],
   "source": [
    "import numpy as np\n",
    "import pandas as pd \n",
    "import matplotlib.pyplot as plt\n",
    "from matplotlib.colors import ListedColormap\n",
    "%matplotlib inline\n",
    "\n",
    "\n",
    "blobs = pd.read_csv('kmeans_blobs.csv')\n",
    "colnames = list(blobs.columns[1:-1])\n",
    "blobs.head()"
   ]
  },
  {
   "cell_type": "code",
   "execution_count": 3,
   "metadata": {},
   "outputs": [
    {
     "data": {
      "text/html": [
       "<div>\n",
       "<style scoped>\n",
       "    .dataframe tbody tr th:only-of-type {\n",
       "        vertical-align: middle;\n",
       "    }\n",
       "\n",
       "    .dataframe tbody tr th {\n",
       "        vertical-align: top;\n",
       "    }\n",
       "\n",
       "    .dataframe thead th {\n",
       "        text-align: right;\n",
       "    }\n",
       "</style>\n",
       "<table border=\"1\" class=\"dataframe\">\n",
       "  <thead>\n",
       "    <tr style=\"text-align: right;\">\n",
       "      <th></th>\n",
       "      <th>x</th>\n",
       "      <th>y</th>\n",
       "    </tr>\n",
       "  </thead>\n",
       "  <tbody>\n",
       "    <tr>\n",
       "      <th>0</th>\n",
       "      <td>24.412</td>\n",
       "      <td>32.932</td>\n",
       "    </tr>\n",
       "    <tr>\n",
       "      <th>5</th>\n",
       "      <td>25.893</td>\n",
       "      <td>31.515</td>\n",
       "    </tr>\n",
       "    <tr>\n",
       "      <th>36</th>\n",
       "      <td>26.878</td>\n",
       "      <td>36.609</td>\n",
       "    </tr>\n",
       "  </tbody>\n",
       "</table>\n",
       "</div>"
      ],
      "text/plain": [
       "         x       y\n",
       "0   24.412  32.932\n",
       "5   25.893  31.515\n",
       "36  26.878  36.609"
      ]
     },
     "execution_count": 3,
     "metadata": {},
     "output_type": "execute_result"
    }
   ],
   "source": [
    "def init_centroids(k, dset):\n",
    "    '''\n",
    "    entrega una cantidad de centroides\n",
    "    (eligiendo puntos aleatorios para comenzar)\n",
    "    k: numero de centroides\n",
    "    dset: pandas datafrmae\n",
    "    '''\n",
    "    centroids = dset.sample(k)\n",
    "    return centroids\n",
    "\n",
    "np.random.seed(42)\n",
    "k=3\n",
    "df = blobs[['x','y']]\n",
    "centroids = init_centroids(k, df)\n",
    "centroids"
   ]
  },
  {
   "cell_type": "code",
   "execution_count": 9,
   "metadata": {},
   "outputs": [],
   "source": [
    "def rsserr(a,b):\n",
    "    '''\n",
    "    a,b son arreglos numpy\n",
    "    calcula la suma de la diferencia de sus cuadrados\n",
    "    '''\n",
    "    return np.sum( (a-b)**2 )"
   ]
  },
  {
   "cell_type": "code",
   "execution_count": 30,
   "metadata": {},
   "outputs": [
    {
     "data": {
      "text/plain": [
       "(4, 13)"
      ]
     },
     "execution_count": 30,
     "metadata": {},
     "output_type": "execute_result"
    }
   ],
   "source": [
    "def indexofminimum(a):\n",
    "    '''\n",
    "    -> (index, value)\n",
    "    Retorna el index de un arreglo de numpy a,\n",
    "    donde se encuentra el minimo, y el valor de ese minimo\n",
    "    '''\n",
    "    minimo =  np.amin(a)\n",
    "    return list(np.where( a == minimo)[0])[0], minimo\n",
    "\n",
    "indexofminimum([34,412,643,123,13])"
   ]
  },
  {
   "cell_type": "code",
   "execution_count": 34,
   "metadata": {},
   "outputs": [
    {
     "name": "stdout",
     "output_type": "stream",
     "text": [
      "Error para centroide 0: 546.44\n",
      "Error para centroide 1: 459.93\n",
      "Error para centroide 2: 665.43\n"
     ]
    }
   ],
   "source": [
    "dato_testing = df.iloc[1,:]\n",
    "\n",
    "for i, centroid in enumerate(range(centroids.shape[0])):\n",
    "    err = rsserr(centroids.iloc[centroid,:], dato_testing)\n",
    "    print('Error para centroide {0}: {1:.2f}'.format(i, err))"
   ]
  },
  {
   "cell_type": "code",
   "execution_count": 17,
   "metadata": {},
   "outputs": [
    {
     "data": {
      "text/html": [
       "<div>\n",
       "<style scoped>\n",
       "    .dataframe tbody tr th:only-of-type {\n",
       "        vertical-align: middle;\n",
       "    }\n",
       "\n",
       "    .dataframe tbody tr th {\n",
       "        vertical-align: top;\n",
       "    }\n",
       "\n",
       "    .dataframe thead th {\n",
       "        text-align: right;\n",
       "    }\n",
       "</style>\n",
       "<table border=\"1\" class=\"dataframe\">\n",
       "  <thead>\n",
       "    <tr style=\"text-align: right;\">\n",
       "      <th></th>\n",
       "      <th>x</th>\n",
       "      <th>y</th>\n",
       "    </tr>\n",
       "  </thead>\n",
       "  <tbody>\n",
       "    <tr>\n",
       "      <th>0</th>\n",
       "      <td>24.412</td>\n",
       "      <td>32.932</td>\n",
       "    </tr>\n",
       "    <tr>\n",
       "      <th>5</th>\n",
       "      <td>25.893</td>\n",
       "      <td>31.515</td>\n",
       "    </tr>\n",
       "    <tr>\n",
       "      <th>36</th>\n",
       "      <td>26.878</td>\n",
       "      <td>36.609</td>\n",
       "    </tr>\n",
       "  </tbody>\n",
       "</table>\n",
       "</div>"
      ],
      "text/plain": [
       "         x       y\n",
       "0   24.412  32.932\n",
       "5   25.893  31.515\n",
       "36  26.878  36.609"
      ]
     },
     "execution_count": 17,
     "metadata": {},
     "output_type": "execute_result"
    }
   ],
   "source": [
    "centroids"
   ]
  },
  {
   "cell_type": "markdown",
   "metadata": {},
   "source": [
    "### consiguiendo centroides"
   ]
  },
  {
   "cell_type": "code",
   "execution_count": 21,
   "metadata": {},
   "outputs": [
    {
     "name": "stdout",
     "output_type": "stream",
     "text": [
      "[463.585778 382.715892 564.799621]\n"
     ]
    }
   ],
   "source": [
    "dset = df\n",
    "\n",
    "k = centroids.shape[0]\n",
    "n = dset.shape[0]\n",
    "assignation = []\n",
    "assign_errors = []\n",
    "\n",
    "for obs in range(n):\n",
    "    # estima el error de cada centroide\n",
    "    all_errors = np.array([])\n",
    "    for centroid in range(k):\n",
    "        err = rsserr(centroids.iloc[centroid, :], dset.iloc[obs,:])\n",
    "        all_errors = np.append(all_errors, err) #arreglo numpy con error por centroid\n",
    "\n",
    "print(all_errors)"
   ]
  },
  {
   "cell_type": "markdown",
   "metadata": {},
   "source": [
    "## Asigna los centroides\n"
   ]
  },
  {
   "cell_type": "code",
   "execution_count": 31,
   "metadata": {},
   "outputs": [],
   "source": [
    "def centroid_assignation(dset, centroids):\n",
    "    '''\n",
    "    Dado un dataframe y un set de centroides, se asigna\n",
    "    a cada punto de dset a un centroide\n",
    "    - dset - pandas dataframe with observations\n",
    "    - centroids - pandas dataframe with centroids\n",
    "    '''\n",
    "    k = centroids.shape[0]\n",
    "    n = dset.shape[0]\n",
    "    assignation = []\n",
    "    assign_errors = []\n",
    "\n",
    "    for obs in range(n):\n",
    "        # estima el error de cada centroide\n",
    "        error_array = np.array([])\n",
    "        for centroid in range(k):\n",
    "            err = rsserr(centroids.iloc[centroid, :], dset.iloc[obs,:])\n",
    "            error_array = np.append(error_array, err) #arreglo numpy con error por centroid\n",
    "\n",
    "        # nr_cntr : nearest centroid\n",
    "        nr_cntr, nr_cntr_error = indexofminimum( error_array )\n",
    "\n",
    "        # agrega el valor a la lista correspondiente\n",
    "        assignation.append(nr_cntr)\n",
    "        assign_errors.append(nr_cntr_error)\n",
    "\n",
    "    return assignation, assign_errors"
   ]
  },
  {
   "cell_type": "code",
   "execution_count": 49,
   "metadata": {},
   "outputs": [
    {
     "data": {
      "text/html": [
       "<div>\n",
       "<style scoped>\n",
       "    .dataframe tbody tr th:only-of-type {\n",
       "        vertical-align: middle;\n",
       "    }\n",
       "\n",
       "    .dataframe tbody tr th {\n",
       "        vertical-align: top;\n",
       "    }\n",
       "\n",
       "    .dataframe thead th {\n",
       "        text-align: right;\n",
       "    }\n",
       "</style>\n",
       "<table border=\"1\" class=\"dataframe\">\n",
       "  <thead>\n",
       "    <tr style=\"text-align: right;\">\n",
       "      <th></th>\n",
       "      <th>x</th>\n",
       "      <th>y</th>\n",
       "      <th>centroid</th>\n",
       "      <th>error</th>\n",
       "    </tr>\n",
       "  </thead>\n",
       "  <tbody>\n",
       "    <tr>\n",
       "      <th>0</th>\n",
       "      <td>24.412</td>\n",
       "      <td>32.932</td>\n",
       "      <td>2</td>\n",
       "      <td>94.740741</td>\n",
       "    </tr>\n",
       "    <tr>\n",
       "      <th>1</th>\n",
       "      <td>35.190</td>\n",
       "      <td>12.189</td>\n",
       "      <td>1</td>\n",
       "      <td>46.033021</td>\n",
       "    </tr>\n",
       "    <tr>\n",
       "      <th>2</th>\n",
       "      <td>26.288</td>\n",
       "      <td>41.718</td>\n",
       "      <td>2</td>\n",
       "      <td>21.972002</td>\n",
       "    </tr>\n",
       "    <tr>\n",
       "      <th>3</th>\n",
       "      <td>0.376</td>\n",
       "      <td>15.506</td>\n",
       "      <td>0</td>\n",
       "      <td>150.360777</td>\n",
       "    </tr>\n",
       "    <tr>\n",
       "      <th>4</th>\n",
       "      <td>26.116</td>\n",
       "      <td>3.963</td>\n",
       "      <td>1</td>\n",
       "      <td>62.886921</td>\n",
       "    </tr>\n",
       "  </tbody>\n",
       "</table>\n",
       "</div>"
      ],
      "text/plain": [
       "        x       y  centroid       error\n",
       "0  24.412  32.932         2   94.740741\n",
       "1  35.190  12.189         1   46.033021\n",
       "2  26.288  41.718         2   21.972002\n",
       "3   0.376  15.506         0  150.360777\n",
       "4  26.116   3.963         1   62.886921"
      ]
     },
     "execution_count": 49,
     "metadata": {},
     "output_type": "execute_result"
    }
   ],
   "source": [
    "# asignamos los centroides\n",
    "df['centroid'], df['error'] = centroid_assignation(df, centroids)\n",
    "df.head()"
   ]
  },
  {
   "cell_type": "code",
   "execution_count": 38,
   "metadata": {},
   "outputs": [
    {
     "data": {
      "image/png": "[encoded data removed]",
      "text/plain": [
       "<Figure size 800x600 with 1 Axes>"
      ]
     },
     "metadata": {},
     "output_type": "display_data"
    }
   ],
   "source": [
    "fig, ax = plt.subplots(figsize=(8, 6))\n",
    "plt.scatter(df.iloc[:,0], df.iloc[:,1],  marker = 'o', \n",
    "            c=df['centroid'].astype('category'), \n",
    "            s=80, alpha=0.5)\n",
    "plt.scatter(centroids.iloc[:,0], centroids.iloc[:,1],  \n",
    "            marker = 's', s=200, c=[0, 1, 2]\n",
    "            )\n",
    "ax.set_xlabel(r'x', fontsize=14)\n",
    "ax.set_ylabel(r'y', fontsize=14)\n",
    "plt.xticks(fontsize=12)\n",
    "plt.yticks(fontsize=12)\n",
    "plt.show()"
   ]
  },
  {
   "cell_type": "code",
   "execution_count": 39,
   "metadata": {},
   "outputs": [
    {
     "name": "stdout",
     "output_type": "stream",
     "text": [
      "El error total 20606.95\n"
     ]
    }
   ],
   "source": [
    "print(\"El error total {0:.2f}\".format(df['error'].sum()))"
   ]
  },
  {
   "cell_type": "markdown",
   "metadata": {},
   "source": [
    "## Actualiza los centroides\n"
   ]
  },
  {
   "cell_type": "code",
   "execution_count": 51,
   "metadata": {},
   "outputs": [
    {
     "data": {
      "text/html": [
       "<div style=\"float: left; padding: 10px;\">\n",
       "    <p style='font-family:\"Courier New\", Courier, monospace'>centroid_means</p><div>\n",
       "<style scoped>\n",
       "    .dataframe tbody tr th:only-of-type {\n",
       "        vertical-align: middle;\n",
       "    }\n",
       "\n",
       "    .dataframe tbody tr th {\n",
       "        vertical-align: top;\n",
       "    }\n",
       "\n",
       "    .dataframe thead th {\n",
       "        text-align: right;\n",
       "    }\n",
       "</style>\n",
       "<table border=\"1\" class=\"dataframe\">\n",
       "  <thead>\n",
       "    <tr style=\"text-align: right;\">\n",
       "      <th></th>\n",
       "      <th>x</th>\n",
       "      <th>y</th>\n",
       "      <th>error</th>\n",
       "    </tr>\n",
       "    <tr>\n",
       "      <th>centroid</th>\n",
       "      <th></th>\n",
       "      <th></th>\n",
       "      <th></th>\n",
       "    </tr>\n",
       "  </thead>\n",
       "  <tbody>\n",
       "    <tr>\n",
       "      <th>0</th>\n",
       "      <td>6.322867</td>\n",
       "      <td>19.559800</td>\n",
       "      <td>82.185178</td>\n",
       "    </tr>\n",
       "    <tr>\n",
       "      <th>1</th>\n",
       "      <td>29.330864</td>\n",
       "      <td>10.432409</td>\n",
       "      <td>41.211471</td>\n",
       "    </tr>\n",
       "    <tr>\n",
       "      <th>2</th>\n",
       "      <td>29.304957</td>\n",
       "      <td>39.050783</td>\n",
       "      <td>49.891045</td>\n",
       "    </tr>\n",
       "  </tbody>\n",
       "</table>\n",
       "</div>\n",
       "    </div>\n",
       "<div style=\"float: left; padding: 10px;\">\n",
       "    <p style='font-family:\"Courier New\", Courier, monospace'>centroids</p><div>\n",
       "<style scoped>\n",
       "    .dataframe tbody tr th:only-of-type {\n",
       "        vertical-align: middle;\n",
       "    }\n",
       "\n",
       "    .dataframe tbody tr th {\n",
       "        vertical-align: top;\n",
       "    }\n",
       "\n",
       "    .dataframe thead th {\n",
       "        text-align: right;\n",
       "    }\n",
       "</style>\n",
       "<table border=\"1\" class=\"dataframe\">\n",
       "  <thead>\n",
       "    <tr style=\"text-align: right;\">\n",
       "      <th></th>\n",
       "      <th>x</th>\n",
       "      <th>y</th>\n",
       "    </tr>\n",
       "  </thead>\n",
       "  <tbody>\n",
       "    <tr>\n",
       "      <th>0</th>\n",
       "      <td>9.889444</td>\n",
       "      <td>23.242611</td>\n",
       "    </tr>\n",
       "    <tr>\n",
       "      <th>1</th>\n",
       "      <td>28.435750</td>\n",
       "      <td>11.546250</td>\n",
       "    </tr>\n",
       "    <tr>\n",
       "      <th>2</th>\n",
       "      <td>30.759333</td>\n",
       "      <td>40.311167</td>\n",
       "    </tr>\n",
       "  </tbody>\n",
       "</table>\n",
       "</div>\n",
       "    </div>"
      ],
      "text/plain": [
       "centroid_means\n",
       "                  x          y      error\n",
       "centroid                                 \n",
       "0          6.322867  19.559800  82.185178\n",
       "1         29.330864  10.432409  41.211471\n",
       "2         29.304957  39.050783  49.891045\n",
       "\n",
       "centroids\n",
       "           x          y\n",
       "0   9.889444  23.242611\n",
       "1  28.435750  11.546250\n",
       "2  30.759333  40.311167"
      ]
     },
     "execution_count": 51,
     "metadata": {},
     "output_type": "execute_result"
    }
   ],
   "source": [
    "# promedio de las posiciones de los datos en funcion de su centroide\n",
    "# esto es distintos de nuestros centroides\n",
    "\n",
    "centroid_means = df.groupby('centroid').agg('mean')\n",
    "centroids\n",
    "\n",
    "display('centroid_means', 'centroids')"
   ]
  },
  {
   "cell_type": "code",
   "execution_count": 40,
   "metadata": {},
   "outputs": [
    {
     "data": {
      "text/html": [
       "<div>\n",
       "<style scoped>\n",
       "    .dataframe tbody tr th:only-of-type {\n",
       "        vertical-align: middle;\n",
       "    }\n",
       "\n",
       "    .dataframe tbody tr th {\n",
       "        vertical-align: top;\n",
       "    }\n",
       "\n",
       "    .dataframe thead th {\n",
       "        text-align: right;\n",
       "    }\n",
       "</style>\n",
       "<table border=\"1\" class=\"dataframe\">\n",
       "  <thead>\n",
       "    <tr style=\"text-align: right;\">\n",
       "      <th></th>\n",
       "      <th>x</th>\n",
       "      <th>y</th>\n",
       "    </tr>\n",
       "  </thead>\n",
       "  <tbody>\n",
       "    <tr>\n",
       "      <th>0</th>\n",
       "      <td>9.889444</td>\n",
       "      <td>23.242611</td>\n",
       "    </tr>\n",
       "    <tr>\n",
       "      <th>1</th>\n",
       "      <td>28.435750</td>\n",
       "      <td>11.546250</td>\n",
       "    </tr>\n",
       "    <tr>\n",
       "      <th>2</th>\n",
       "      <td>30.759333</td>\n",
       "      <td>40.311167</td>\n",
       "    </tr>\n",
       "  </tbody>\n",
       "</table>\n",
       "</div>"
      ],
      "text/plain": [
       "           x          y\n",
       "0   9.889444  23.242611\n",
       "1  28.435750  11.546250\n",
       "2  30.759333  40.311167"
      ]
     },
     "execution_count": 40,
     "metadata": {},
     "output_type": "execute_result"
    }
   ],
   "source": [
    "centroids = df.groupby('centroid').agg('mean').loc[:, colnames].reset_index(drop = True)\n",
    "centroids"
   ]
  },
  {
   "cell_type": "markdown",
   "metadata": {},
   "source": [
    "luego calculamos si es menor a una tolerancia y entregaremos en caso de coseguirlo\n"
   ]
  },
  {
   "cell_type": "code",
   "execution_count": null,
   "metadata": {},
   "outputs": [],
   "source": []
  }
 ],
 "metadata": {
  "kernelspec": {
   "display_name": "Python 3.9.13 ('base')",
   "language": "python",
   "name": "python3"
  },
  "language_info": {
   "codemirror_mode": {
    "name": "ipython",
    "version": 3
   },
   "file_extension": ".py",
   "mimetype": "text/x-python",
   "name": "python",
   "nbconvert_exporter": "python",
   "pygments_lexer": "ipython3",
   "version": "3.9.13"
  },
  "orig_nbformat": 4,
  "vscode": {
   "interpreter": {
    "hash": "ad2bdc8ecc057115af97d19610ffacc2b4e99fae6737bb82f5d7fb13d2f2c186"
   }
  }
 },
 "nbformat": 4,
 "nbformat_minor": 2
}
