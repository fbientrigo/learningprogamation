{
    "cells": [
        {
            "cell_type": "markdown",
            "source": [
                "# Python Intermedio\r\n",
                "\r\n",
                "### indice\r\n",
                "1. Listas\r\n",
                "2. Tuplas\r\n",
                "3. Diccionarios\r\n",
                "4. Sets\r\n",
                "5. Strings\r\n",
                "6. Colecciones\r\n",
                "7. Iter Tools\r\n",
                "8. Funciones Lambda\r\n",
                "9. Excepciones y Errores\r\n",
                "10. Loggins\r\n",
                "11. Json\r\n",
                "12. Numeros aleatorios\r\n",
                "13. Decoradores\r\n",
                "14. Generadores\r\n",
                "15. Threadings vs Multiprocessnig\r\n",
                "16. Multihilos\r\n",
                "17. Multiprocesamiento\r\n",
                "18. Argumentos de Funciones\r\n",
                "19. Copias superficiales vs profundas\r\n",
                "20. Operador *\r\n",
                "21. Context Managers"
            ],
            "metadata": {}
        },
        {
            "cell_type": "markdown",
            "source": [
                "# 1. Lista\r\n",
                "Coleccion de elementos\r\n",
                "* mutable\r\n",
                "* permite repeticion de elementos\r\n",
                "\r\n",
                "``` unaLista = [\"banana\", \"cherry\", \"apple\"]```"
            ],
            "metadata": {}
        },
        {
            "cell_type": "code",
            "execution_count": 3,
            "source": [
                "# es posible crear listas vacias\r\n",
                "listaVacia = list()\r\n",
                "listaVacia2 = []\r\n",
                "\r\n",
                "\r\n",
                "Lista = [\"banana\", \"cherry\", \"apple\",\"watermelon\",10, 20, 30]\r\n",
                "\r\n",
                "n = len(Lista) #para saber el largo de esta lista\r\n",
                "\r\n",
                "Lista[-1] #podemos tomar el primer elemento\r\n",
                "print(Lista)\r\n",
                "print(f'Lista[2:] = {Lista[2:]}') #podemos cortar la lista desde (inclusivo)\r\n",
                "print(f'Lista[:4] = {Lista[:4]}') #podemos cortar la lista hasta (no inclusivo)"
            ],
            "outputs": [
                {
                    "output_type": "stream",
                    "name": "stdout",
                    "text": [
                        "['banana', 'cherry', 'apple', 'watermelon', 10, 20, 30]\n",
                        "Lista[2:] = ['apple', 'watermelon', 10, 20, 30]\n",
                        "Lista[:4] = ['banana', 'cherry', 'apple', 'watermelon']\n"
                    ]
                }
            ],
            "metadata": {}
        },
        {
            "cell_type": "code",
            "execution_count": 4,
            "source": [
                "# existe una sintaxis para comprobr si un elemento se encuentra; esto dara True\r\n",
                "\"banana\" in Lista"
            ],
            "outputs": [
                {
                    "output_type": "execute_result",
                    "data": {
                        "text/plain": [
                            "True"
                        ]
                    },
                    "metadata": {},
                    "execution_count": 4
                }
            ],
            "metadata": {}
        },
        {
            "cell_type": "code",
            "execution_count": 5,
            "source": [
                "# en caso de no estar, sera False\r\n",
                "\"lemon\" in Lista"
            ],
            "outputs": [
                {
                    "output_type": "execute_result",
                    "data": {
                        "text/plain": [
                            "False"
                        ]
                    },
                    "metadata": {},
                    "execution_count": 5
                }
            ],
            "metadata": {}
        },
        {
            "cell_type": "markdown",
            "source": [
                "#### Modificaciones a una lista\r\n",
                "##### Agregar\r\n",
                "`Lista.append(objeto)` Agregara `objeto` al final de la lista\r\n",
                "\r\n",
                "`Lista.insert(objeto)` Agregara `objeto` al indice especificado"
            ],
            "metadata": {}
        },
        {
            "cell_type": "code",
            "execution_count": 6,
            "source": [
                "print(Lista)\r\n",
                "Lista.insert(1,\"lemon\")\r\n",
                "print(Lista)"
            ],
            "outputs": [
                {
                    "output_type": "stream",
                    "name": "stdout",
                    "text": [
                        "['banana', 'cherry', 'apple', 'watermelon', 10, 20, 30]\n",
                        "['banana', 'lemon', 'cherry', 'apple', 'watermelon', 10, 20, 30]\n"
                    ]
                }
            ],
            "metadata": {}
        },
        {
            "cell_type": "markdown",
            "source": [
                "otras formas de crear y agregar elmentos"
            ],
            "metadata": {}
        },
        {
            "cell_type": "code",
            "execution_count": 14,
            "source": [
                "lista = [0] * 5 + [1, 5, 6]\r\n",
                "print(lista)"
            ],
            "outputs": [
                {
                    "output_type": "stream",
                    "name": "stdout",
                    "text": [
                        "[0, 0, 0, 0, 0, 1, 5, 6]\n"
                    ]
                }
            ],
            "metadata": {}
        },
        {
            "cell_type": "markdown",
            "source": [
                "##### Eliminar o quitar\r\n",
                "`Lista.pop()` quita el elemento final de una lista; podemos guardar lo que saque\r\n",
                "`Lista.clear()` elimina todos los elementos de una lista "
            ],
            "metadata": {}
        },
        {
            "cell_type": "code",
            "execution_count": 7,
            "source": [
                "print(Lista)\r\n",
                "elementoFuera = Lista.pop()\r\n",
                "print(Lista)\r\n",
                "print(elementoFuera)\r\n",
                "\r\n",
                "Lista.clear()\r\n",
                "print(Lista)"
            ],
            "outputs": [
                {
                    "output_type": "stream",
                    "name": "stdout",
                    "text": [
                        "['banana', 'lemon', 'cherry', 'apple', 'watermelon', 10, 20, 30]\n",
                        "['banana', 'lemon', 'cherry', 'apple', 'watermelon', 10, 20]\n",
                        "30\n",
                        "[]\n"
                    ]
                }
            ],
            "metadata": {}
        },
        {
            "cell_type": "markdown",
            "source": [
                "### Ordenamiento\r\n",
                "`lista.sort()` reordenara la lista, por default en numero y alfabetico; tendras un error si intentas con una lista que es numerica y string a la vez"
            ],
            "metadata": {}
        },
        {
            "cell_type": "code",
            "execution_count": 11,
            "source": [
                "lista = [40,10, 20, 30]\r\n",
                "lista.sort() #notese que la cambia en el lugar\r\n",
                "print(lista)\r\n",
                "\r\n",
                "listan = [\"n\", \"ba\",\"ab\", \"ac\", \"b\"]\r\n",
                "listan.sort()\r\n",
                "print(listan)\r\n"
            ],
            "outputs": [
                {
                    "output_type": "stream",
                    "name": "stdout",
                    "text": [
                        "[10, 20, 30, 40]\n",
                        "['ab', 'ac', 'b', 'ba', 'n']\n"
                    ]
                }
            ],
            "metadata": {}
        },
        {
            "cell_type": "code",
            "execution_count": 10,
            "source": [
                "listaError = [1, 3, \"a\"]\r\n",
                "listaError.sort()"
            ],
            "outputs": [
                {
                    "output_type": "error",
                    "ename": "TypeError",
                    "evalue": "'<' not supported between instances of 'str' and 'int'",
                    "traceback": [
                        "\u001b[1;31m---------------------------------------------------------------------------\u001b[0m",
                        "\u001b[1;31mTypeError\u001b[0m                                 Traceback (most recent call last)",
                        "\u001b[1;32m<ipython-input-10-1267bf252b52>\u001b[0m in \u001b[0;36m<module>\u001b[1;34m\u001b[0m\n\u001b[0;32m      1\u001b[0m \u001b[0mlistaError\u001b[0m \u001b[1;33m=\u001b[0m \u001b[1;33m[\u001b[0m\u001b[1;36m1\u001b[0m\u001b[1;33m,\u001b[0m \u001b[1;36m3\u001b[0m\u001b[1;33m,\u001b[0m \u001b[1;34m\"a\"\u001b[0m\u001b[1;33m]\u001b[0m\u001b[1;33m\u001b[0m\u001b[1;33m\u001b[0m\u001b[0m\n\u001b[1;32m----> 2\u001b[1;33m \u001b[0mlistaError\u001b[0m\u001b[1;33m.\u001b[0m\u001b[0msort\u001b[0m\u001b[1;33m(\u001b[0m\u001b[1;33m)\u001b[0m\u001b[1;33m\u001b[0m\u001b[1;33m\u001b[0m\u001b[0m\n\u001b[0m",
                        "\u001b[1;31mTypeError\u001b[0m: '<' not supported between instances of 'str' and 'int'"
                    ]
                }
            ],
            "metadata": {}
        },
        {
            "cell_type": "markdown",
            "source": [
                "como ordenamos por una propiedad, como la edad? que sera el 2do elemento dentro de los objetos de la lista"
            ],
            "metadata": {}
        },
        {
            "cell_type": "code",
            "execution_count": 5,
            "source": [
                "personas = [['fabi','21','M'], ['benja','22','M'], ['mary','24','F'],['hector','17','M']] \r\n",
                "#para ordenar usamos sort, pero dando mas info\r\n",
                "personas.sort(key = lambda x: x[1])\r\n",
                "print(personas)"
            ],
            "outputs": [
                {
                    "output_type": "stream",
                    "name": "stdout",
                    "text": [
                        "[['hector', '17', 'M'], ['fabi', '21', 'M'], ['benja', '22', 'M'], ['mary', '24', 'F']]\n"
                    ]
                }
            ],
            "metadata": {}
        },
        {
            "cell_type": "markdown",
            "source": [
                "### Importante\r\n",
                "`lista.sor()` como habras notado, provoca un cambio modificando la lista original, si deseamos no modificarla pero crear una nueva, utilizamos\r\n",
                "`nuevaLista = sorted(lista)`"
            ],
            "metadata": {}
        },
        {
            "cell_type": "code",
            "execution_count": 8,
            "source": [
                "lista = [10, 30, 60, 10, 20]\r\n",
                "nuevaLista = sorted(lista) \r\n",
                "print(lista)\r\n",
                "print(nuevaLista)"
            ],
            "outputs": [
                {
                    "output_type": "stream",
                    "name": "stdout",
                    "text": [
                        "[10, 30, 60, 10, 20]\n",
                        "[10, 10, 20, 30, 60]\n"
                    ]
                }
            ],
            "metadata": {}
        },
        {
            "cell_type": "markdown",
            "source": [
                "## Sobre Iterables\r\n",
                "Observa estos dos prints;\r\n",
                "como veras el ultimo al usar la estrella, quiere decir que esta tomando cada iterable como si se tratase de un for.\r\n",
                "```\r\n",
                "print(*lista, sep=\"\\n\")\r\n",
                "```\r\n",
                "=\r\n",
                "```\r\n",
                "for elemento in lista:\r\n",
                "    print(elemento)\r\n",
                "```"
            ],
            "metadata": {}
        },
        {
            "cell_type": "code",
            "execution_count": 16,
            "source": [
                "#\\n quiere decir un salto de linea\r\n",
                "print(lista, sep=\"\\n\")\r\n",
                "\r\n",
                "print(*lista, sep=\"\\n\")"
            ],
            "outputs": [
                {
                    "output_type": "stream",
                    "name": "stdout",
                    "text": [
                        "[10, 30, 60, 10, 20]\n",
                        "10\n",
                        "30\n",
                        "60\n",
                        "10\n",
                        "20\n"
                    ]
                }
            ],
            "metadata": {}
        },
        {
            "cell_type": "markdown",
            "source": [
                "### Bonus: Un poco mas avanzado\r\n",
                "Utilicemos lo aprendido con un Decorador, es algo mas avanzado pero consideralo si deseas un reto.\r\n",
                "Queremos ordenar nuestra lista, tenemos una funcion que nos entrega el formateo correcto, pero no el orden.\r\n",
                "Solo podemos modificar el decorador, que lo que hace es encerrar a la funcion y agregar codigo alrededor.\r\n",
                "\r\n",
                "En este problema, solo podemos modificar el decorador. Observa el ultimo print\r\n",
                "como veras, pide que entreguemos una lista, o cualquier iterable; ese es el significado de * antes de la variable"
            ],
            "metadata": {}
        },
        {
            "cell_type": "code",
            "execution_count": 17,
            "source": [
                "people = [['fabi','21','M'], ['benja','22','M'], ['mary','24','F'],['hector','17','M']] \r\n",
                "\r\n",
                "#esta es la sintaxis para un decorador, traga una funcion\r\n",
                "#por ahora solo preocupate donde va el codigo\r\n",
                "def person_lister(fun):\r\n",
                "    #dentro definimos una funcion que utilice nuestra funcion, y alli definimos los parametros\r\n",
                "    def inner(people):\r\n",
                "\r\n",
                "        #codigo aqui, hacer algo con fun(people)\r\n",
                "        \r\n",
                "    return inner #y luego retornamos esa funcion interna\r\n",
                "\r\n",
                "# esto hace que person_lister(name_format(people))\r\n",
                "# ese es el significado del decorador\r\n",
                "@person_lister\r\n",
                "def name_format(person):\r\n",
                "    return (\"Mr. \" if person[2] == \"M\" else \"Ms. \") + person[0]\r\n",
                "\r\n",
                "print(*name_format(people), sep='\\n')"
            ],
            "outputs": [
                {
                    "output_type": "error",
                    "ename": "IndentationError",
                    "evalue": "expected an indented block (<ipython-input-17-17859538612c>, line 11)",
                    "traceback": [
                        "\u001b[1;36m  File \u001b[1;32m\"<ipython-input-17-17859538612c>\"\u001b[1;36m, line \u001b[1;32m11\u001b[0m\n\u001b[1;33m    return inner #y luego retornamos esa funcion interna\u001b[0m\n\u001b[1;37m    ^\u001b[0m\n\u001b[1;31mIndentationError\u001b[0m\u001b[1;31m:\u001b[0m expected an indented block\n"
                    ]
                }
            ],
            "metadata": {}
        },
        {
            "cell_type": "code",
            "execution_count": 18,
            "source": [
                "people = personas\r\n",
                "def person_lister(fun):\r\n",
                "    def inner(people):\r\n",
                "        #f es mi function\r\n",
                "        #lo primero es ordenar a la gente por edad\r\n",
                "        people.sort(key= lambda x: int(x[2]))\r\n",
                "        #esto devuelve un iterable, ya que ejecutaremos la funcion a cada\r\n",
                "        # elemento. Y luego retornaremos eso\r\n",
                "        return map(fun, people)\r\n",
                "        \r\n",
                "    return inner\r\n",
                "\r\n",
                "#al usar el iterable, estamos modificando la funcion de abajo\r\n",
                "# y redeandola de codigo, nota como arriba la funcion name_format\r\n",
                "# quedara rodeada de otro codigo que modifiara su comportamiento\r\n",
                "@person_lister\r\n",
                "def name_format(person):\r\n",
                "    return (\"Mr. \" if person[2] == \"M\" else \"Ms. \") + person[0]\r\n",
                "\r\n",
                "print(*name_format(people), sep='\\n')"
            ],
            "outputs": [
                {
                    "output_type": "stream",
                    "name": "stdout",
                    "text": [
                        "Ms. mary\n",
                        "Mr. hector\n",
                        "Mr. fabi\n",
                        "Mr. benja\n"
                    ]
                }
            ],
            "metadata": {}
        },
        {
            "cell_type": "code",
            "execution_count": null,
            "source": [],
            "outputs": [],
            "metadata": {}
        }
    ],
    "metadata": {
        "orig_nbformat": 4,
        "language_info": {
            "name": "python",
            "version": "3.8.5",
            "mimetype": "text/x-python",
            "codemirror_mode": {
                "name": "ipython",
                "version": 3
            },
            "pygments_lexer": "ipython3",
            "nbconvert_exporter": "python",
            "file_extension": ".py"
        },
        "kernelspec": {
            "name": "python3",
            "display_name": "Python 3.8.5 64-bit"
        },
        "interpreter": {
            "hash": "b3ba2566441a7c06988d0923437866b63cedc61552a5af99d1f4fb67d367b25f"
        }
    },
    "nbformat": 4,
    "nbformat_minor": 2
}